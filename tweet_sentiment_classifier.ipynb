{
 "cells": [
  {
   "cell_type": "markdown",
   "metadata": {
    "id": "MP8guU7geWYg"
   },
   "source": [
    "# Libraries & Data"
   ]
  },
  {
   "cell_type": "code",
   "execution_count": 1,
   "metadata": {
    "collapsed": false,
    "ExecuteTime": {
     "end_time": "2024-09-23T11:47:42.200100Z",
     "start_time": "2024-09-23T11:47:41.760235Z"
    }
   },
   "outputs": [],
   "source": [
    "# !pip install numpy==1.23.5\n",
    "# !pip install scikit-learn\n",
    "# !pip install pandas\n",
    "# !pip install matplotlib\n",
    "# !pip install nltk\n",
    "# !pip install emoji\n",
    "# !pip install -U keras-tuner\n",
    "# !pip install tensorflow\n",
    "# !pip install kaggle\n",
    "# !pip install -U spacy\n",
    "# !pip install gensim\n",
    "#\n",
    "# !rm -r KT_dir_2"
   ]
  },
  {
   "cell_type": "code",
   "execution_count": 123,
   "metadata": {
    "collapsed": false,
    "ExecuteTime": {
     "end_time": "2024-09-23T13:32:03.168441Z",
     "start_time": "2024-09-23T13:32:03.132134Z"
    }
   },
   "outputs": [],
   "source": [
    "import nltk\n",
    "import tensorflow as tf\n",
    "import keras_tuner as kt\n",
    "import spacy\n",
    "import matplotlib.pyplot as plt\n",
    "import pandas as pd\n",
    "import numpy as np\n",
    "import os, json, re, time, emoji, kaggle, string, locale\n",
    "from tqdm import tqdm\n",
    "import gensim.downloader as api\n",
    "\n",
    "\n",
    "from spacy.lang.en.stop_words import STOP_WORDS\n",
    "\n",
    "from nltk.tag.perceptron import PerceptronTagger\n",
    "from nltk.tokenize import TweetTokenizer\n",
    "from nltk.stem import WordNetLemmatizer\n",
    "from nltk.corpus import wordnet, stopwords\n",
    "\n",
    "from sklearn.model_selection import train_test_split\n",
    "from sklearn.metrics import (\n",
    "    precision_recall_curve,\n",
    "    auc,\n",
    "    accuracy_score,\n",
    "    ConfusionMatrixDisplay,\n",
    "    f1_score,\n",
    "    recall_score,\n",
    "    precision_score,\n",
    "    classification_report,\n",
    ")\n",
    "from sklearn.dummy import DummyClassifier\n",
    "from sklearn.feature_extraction.text import TfidfVectorizer\n",
    "from sklearn.linear_model import LogisticRegressionCV\n",
    "\n",
    "from tensorflow.keras.models import Sequential\n",
    "from tensorflow.keras.layers import Dense, Dropout, Input, Layer, Embedding, Bidirectional, GRU\n",
    "from tensorflow.keras.optimizers import Adam\n",
    "from tensorflow.keras.metrics import CategoricalAccuracy\n",
    "from tensorflow.keras.models import load_model\n",
    "from tensorflow.keras.callbacks import EarlyStopping, Callback\n",
    "from tensorflow.keras.layers import TextVectorization"
   ]
  },
  {
   "cell_type": "code",
   "execution_count": 125,
   "metadata": {
    "collapsed": false,
    "ExecuteTime": {
     "end_time": "2024-09-23T19:45:35.009188Z",
     "start_time": "2024-09-23T19:45:34.996824Z"
    }
   },
   "outputs": [],
   "source": [
    "# os.environ[\"TF_CPP_MIN_LOG_LEVEL\"] = \"3\"\n",
    "#\n",
    "# nltk.download(\"punkt\")\n",
    "# nltk.download(\"stopwords\")\n",
    "# nltk.download(\"wordnet\")\n",
    "# nltk.download(\"omw-1.4\")\n",
    "# nltk.download(\"averaged_perceptron_tagger\")\n",
    "# nltk.download('averaged_perceptron_tagger_eng')"
   ]
  },
  {
   "cell_type": "code",
   "execution_count": 10,
   "outputs": [],
   "source": [
    "# !python -m spacy download en_core_web_sm"
   ],
   "metadata": {
    "collapsed": false,
    "ExecuteTime": {
     "end_time": "2024-09-23T11:48:40.215198Z",
     "start_time": "2024-09-23T11:48:40.176711Z"
    }
   }
  },
  {
   "cell_type": "code",
   "execution_count": 11,
   "metadata": {
    "id": "GybjyfVfeskj",
    "ExecuteTime": {
     "end_time": "2024-09-23T11:48:41.846931Z",
     "start_time": "2024-09-23T11:48:40.512590Z"
    }
   },
   "outputs": [
    {
     "name": "stdout",
     "output_type": "stream",
     "text": [
      "Warning: Looks like you're using an outdated API Version, please consider updating (server 1.6.17 / client 1.6.14)\r\n",
      "Dataset URL: https://www.kaggle.com/datasets/jp797498e/twitter-entity-sentiment-analysis\r\n",
      "License(s): CC0-1.0\r\n",
      "twitter-entity-sentiment-analysis.zip: Skipping, found more recently modified local copy (use --force to force download)\r\n"
     ]
    }
   ],
   "source": [
    "# Ensure the Kaggle directory exists\n",
    "os.makedirs(os.path.expanduser(\"~/.kaggle\"), exist_ok=True)\n",
    "\n",
    "# Copy kaggle.json to the right location if it is not already there\n",
    "# Uncomment and modify the below lines if you need to place your kaggle.json file in the right directory\n",
    "# import shutil\n",
    "# shutil.copy('path_to_your_kaggle.json', os.path.expanduser('~/.kaggle/kaggle.json'))\n",
    "\n",
    "# Download the dataset using Kaggle API\n",
    "!kaggle datasets download -d jp797498e/twitter-entity-sentiment-analysis"
   ]
  },
  {
   "cell_type": "code",
   "execution_count": 12,
   "metadata": {
    "collapsed": false,
    "ExecuteTime": {
     "end_time": "2024-09-23T11:48:42.232436Z",
     "start_time": "2024-09-23T11:48:41.848715Z"
    }
   },
   "outputs": [
    {
     "name": "stdout",
     "output_type": "stream",
     "text": [
      "mkdir: /Users/antonal/.kaggle: File exists\r\n"
     ]
    }
   ],
   "source": [
    "!mkdir ~/.kaggle\n",
    "!touch ~/.kaggle/kaggle.json\n",
    "\n",
    "api_token = {\"username\": \"{username}\", \"key\": \"{key}\"}\n",
    "\n",
    "with open(\"/Users/antonal/.kaggle/kaggle.json\", \"w\") as file:\n",
    "    json.dump(api_token, file)\n",
    "\n",
    "!chmod 600 ~/.kaggle/kaggle.json"
   ]
  },
  {
   "cell_type": "code",
   "execution_count": 125,
   "metadata": {
    "collapsed": false,
    "ExecuteTime": {
     "end_time": "2024-09-23T19:45:48.425805Z",
     "start_time": "2024-09-23T19:45:48.405664Z"
    }
   },
   "outputs": [],
   "source": [
    "kaggle.api.authenticate()\n",
    "kaggle.api.competition_download_files(\"twitter-sentiment-analysis2\")"
   ]
  },
  {
   "cell_type": "code",
   "execution_count": 125,
   "metadata": {
    "collapsed": false,
    "ExecuteTime": {
     "end_time": "2024-09-23T19:45:55.935758Z",
     "start_time": "2024-09-23T19:45:55.905139Z"
    }
   },
   "outputs": [],
   "source": [
    "!unzip twitter-sentiment-analysis2.zip"
   ]
  },
  {
   "cell_type": "markdown",
   "metadata": {
    "collapsed": false
   },
   "source": [
    "### Initialise dataset"
   ]
  },
  {
   "cell_type": "code",
   "execution_count": 15,
   "metadata": {
    "id": "lTf7s7zSetW4",
    "ExecuteTime": {
     "end_time": "2024-09-23T11:48:44.487015Z",
     "start_time": "2024-09-23T11:48:44.385418Z"
    }
   },
   "outputs": [
    {
     "data": {
      "text/plain": "      Sentiment                                      SentimentText\n0             1  #mygarage - new hashtag for the interesting ri...\n1             0  #Haveyouever why you and your mom just can't g...\n2             0                                #BGT That poor kid \n3             1  #haveyouever had cream cheese &amp; french fri...\n4             1       =- trying to figure out this Twitter thingie\n...         ...                                                ...\n9995          0   not even one single reply.what are people loo...\n9996          1  #phish has an awesome fog machine. oh wait.  n...\n9997          1   gotta love her. glad she had fun. looking for...\n9998          1  &quot;I'm wore out like the waist band on some...\n9999          1  &quot;how do you like them apples&quot; is fro...\n\n[10000 rows x 2 columns]",
      "text/html": "<div>\n<style scoped>\n    .dataframe tbody tr th:only-of-type {\n        vertical-align: middle;\n    }\n\n    .dataframe tbody tr th {\n        vertical-align: top;\n    }\n\n    .dataframe thead th {\n        text-align: right;\n    }\n</style>\n<table border=\"1\" class=\"dataframe\">\n  <thead>\n    <tr style=\"text-align: right;\">\n      <th></th>\n      <th>Sentiment</th>\n      <th>SentimentText</th>\n    </tr>\n  </thead>\n  <tbody>\n    <tr>\n      <th>0</th>\n      <td>1</td>\n      <td>#mygarage - new hashtag for the interesting ri...</td>\n    </tr>\n    <tr>\n      <th>1</th>\n      <td>0</td>\n      <td>#Haveyouever why you and your mom just can't g...</td>\n    </tr>\n    <tr>\n      <th>2</th>\n      <td>0</td>\n      <td>#BGT That poor kid</td>\n    </tr>\n    <tr>\n      <th>3</th>\n      <td>1</td>\n      <td>#haveyouever had cream cheese &amp;amp; french fri...</td>\n    </tr>\n    <tr>\n      <th>4</th>\n      <td>1</td>\n      <td>=- trying to figure out this Twitter thingie</td>\n    </tr>\n    <tr>\n      <th>...</th>\n      <td>...</td>\n      <td>...</td>\n    </tr>\n    <tr>\n      <th>9995</th>\n      <td>0</td>\n      <td>not even one single reply.what are people loo...</td>\n    </tr>\n    <tr>\n      <th>9996</th>\n      <td>1</td>\n      <td>#phish has an awesome fog machine. oh wait.  n...</td>\n    </tr>\n    <tr>\n      <th>9997</th>\n      <td>1</td>\n      <td>gotta love her. glad she had fun. looking for...</td>\n    </tr>\n    <tr>\n      <th>9998</th>\n      <td>1</td>\n      <td>&amp;quot;I'm wore out like the waist band on some...</td>\n    </tr>\n    <tr>\n      <th>9999</th>\n      <td>1</td>\n      <td>&amp;quot;how do you like them apples&amp;quot; is fro...</td>\n    </tr>\n  </tbody>\n</table>\n<p>10000 rows × 2 columns</p>\n</div>"
     },
     "execution_count": 15,
     "metadata": {},
     "output_type": "execute_result"
    }
   ],
   "source": [
    "# Read the CSV file 'train.csv', selecting only the 'Sentiment' and 'SentimentText' columns.\n",
    "df_tweet_sentiment = pd.read_csv(\n",
    "    \"./train.csv\",\n",
    "    encoding=\"ISO-8859-1\",\n",
    "    usecols=[\"Sentiment\", \"SentimentText\"],\n",
    "    index_col=False,\n",
    ")\n",
    "\n",
    "# Filtering the DataFrame to get the first 5000 rows where the sentiment is 0 (negative)\n",
    "df_negative_tweets = df_tweet_sentiment[df_tweet_sentiment[\"Sentiment\"] == 0].head(5000)\n",
    "\n",
    "# Filtering the DataFrame to get the first 5000 rows where the sentiment is 1 (positive)\n",
    "df_positive_tweets = df_tweet_sentiment[df_tweet_sentiment[\"Sentiment\"] == 1].head(5000)\n",
    "\n",
    "# Concatenate the two filtered DataFrames into a single DataFrame\n",
    "df_tweet_sentiment = pd.concat([df_negative_tweets, df_positive_tweets])\n",
    "\n",
    "# Shuffle the concatenated DataFrame randomly and reset the index\n",
    "df_tweet_sentiment = df_tweet_sentiment.sample(frac=1).reset_index(drop=True)\n",
    "df_tweet_sentiment"
   ]
  },
  {
   "cell_type": "code",
   "execution_count": 16,
   "metadata": {
    "colab": {
     "base_uri": "https://localhost:8080/"
    },
    "id": "pm6_60nkfACQ",
    "outputId": "7c408f39-028d-4043-ded4-270497fd7369",
    "ExecuteTime": {
     "end_time": "2024-09-23T11:48:46.093993Z",
     "start_time": "2024-09-23T11:48:46.012950Z"
    }
   },
   "outputs": [],
   "source": [
    "# Initialize a WordNetLemmatizer, which is used to reduce words to their base or root form, e.g., (churches -> church, abaci -> abacus)\n",
    "lemmatizer = WordNetLemmatizer()\n",
    "\n",
    "# Initialize a PerceptronTagger, which is a part-of-speech tagger used to label words with their corresponding parts of speech\n",
    "tagger = PerceptronTagger()\n",
    "\n",
    "# Initialize a TweetTokenizer, which is specifically designed to handle tokenizing tweets (short text with special characters and emoticons)\n",
    "tweet_wt = TweetTokenizer()"
   ]
  },
  {
   "cell_type": "markdown",
   "metadata": {
    "id": "wp_eqjYHeejp"
   },
   "source": [
    "# Preprocess dataset"
   ]
  },
  {
   "cell_type": "code",
   "execution_count": 17,
   "metadata": {
    "id": "CgO7FZs4eUk6",
    "ExecuteTime": {
     "end_time": "2024-09-23T11:48:49.459330Z",
     "start_time": "2024-09-23T11:48:49.434099Z"
    }
   },
   "outputs": [],
   "source": [
    "# Lemmatization helper function\n",
    "def nltk_pos_tagger(nltk_tag):\n",
    "    if nltk_tag.startswith(\"J\"):\n",
    "        return wordnet.ADJ\n",
    "    elif nltk_tag.startswith(\"V\"):\n",
    "        return wordnet.VERB\n",
    "    elif nltk_tag.startswith(\"N\"):\n",
    "        return wordnet.NOUN\n",
    "    elif nltk_tag.startswith(\"R\"):\n",
    "        return wordnet.ADV\n",
    "    else:\n",
    "        return None"
   ]
  },
  {
   "cell_type": "code",
   "execution_count": 18,
   "metadata": {
    "id": "Ow1-4g8MekuY",
    "ExecuteTime": {
     "end_time": "2024-09-23T11:48:49.906099Z",
     "start_time": "2024-09-23T11:48:49.879753Z"
    }
   },
   "outputs": [],
   "source": [
    "def replace_special_tokens(sequence):\n",
    "    # Replace URLs with the token \"<url>\"\n",
    "    sequence = re.sub(\n",
    "        \"\"\"http[s]?://(?:[a-zA-Z]|[0-9]|[$-_@.&+]|[!*\\(\\),]|(?:%[0-9a-fA-F]\n",
    "        [0-9a-fA-F]))+\"\"\",\n",
    "        \"<url>\",\n",
    "        sequence,\n",
    "    )\n",
    "\n",
    "    # Replace mentions (words starting with @) with the token \"<user>\"\n",
    "    sequence = re.sub(\"@\\S+\", \"<user>\", sequence)\n",
    "\n",
    "    # Replace hashtags (words starting with #) with the token \"<hashtag>\"\n",
    "    sequence = re.sub(\"#\\S+\", \"<hashtag>\", sequence)\n",
    "\n",
    "    # Replace numbers (including decimals) with the token \"<number>\"\n",
    "    sequence = re.sub(\"([+-]?([0-9]+([.][0-9]*)?|[.][0-9]+))\", \"<number>\", sequence)\n",
    "\n",
    "    # Convert emojis to text representation (e.g., 😊 to :smiling_face_with_smiling_eyes:)\n",
    "    sequence = emoji.demojize(sequence)  # remove emojis\n",
    "\n",
    "    # Remove emoticons (represented as :word:) from the sequence\n",
    "    sequence = re.sub(r\"\\s*:[\\w]+\", \" \", sequence)  # remove emoticons\n",
    "\n",
    "    # Convert the entire sequence to lowercase\n",
    "    sequence = sequence.lower()\n",
    "\n",
    "    return sequence"
   ]
  },
  {
   "cell_type": "code",
   "execution_count": 19,
   "metadata": {
    "id": "wczDPnTXenLE",
    "ExecuteTime": {
     "end_time": "2024-09-23T11:48:53.596006Z",
     "start_time": "2024-09-23T11:48:50.354954Z"
    }
   },
   "outputs": [
    {
     "data": {
      "text/plain": "      Sentiment                                      SentimentText  \\\n0             1  #mygarage - new hashtag for the interesting ri...   \n1             0  #Haveyouever why you and your mom just can't g...   \n2             0                                #BGT That poor kid    \n3             1  #haveyouever had cream cheese &amp; french fri...   \n4             1       =- trying to figure out this Twitter thingie   \n...         ...                                                ...   \n9995          0   not even one single reply.what are people loo...   \n9996          1  #phish has an awesome fog machine. oh wait.  n...   \n9997          1   gotta love her. glad she had fun. looking for...   \n9998          1  &quot;I'm wore out like the waist band on some...   \n9999          1  &quot;how do you like them apples&quot; is fro...   \n\n                                         processed_text  \\\n0     <hashtag> - new hashtag for the interesting ri...   \n1     <hashtag> why you and your mom just can't get ...   \n2                              <hashtag> that poor kid    \n3     <hashtag> had cream cheese &amp; french fries ...   \n4          =- trying to figure out this twitter thingie   \n...                                                 ...   \n9995   not even one single reply.what are people loo...   \n9996  <hashtag> has an awesome fog machine. oh wait....   \n9997   gotta love her. glad she had fun. looking for...   \n9998  &quot;i'm wore out like the waist band on some...   \n9999  &quot;how do you like them apples&quot; is fro...   \n\n                                         tokenized_text  \\\n0     [<hashtag>, -, new, hashtag, for, the, interes...   \n1     [<hashtag>, why, you, and, your, mom, just, ca...   \n2                          [<hashtag>, that, poor, kid]   \n3     [<hashtag>, had, cream, cheese, &, french, fri...   \n4     [=, -, trying, to, figure, out, this, twitter,...   \n...                                                 ...   \n9995  [not, even, one, single, reply.what, are, peop...   \n9996  [<hashtag>, has, an, awesome, fog, machine, .,...   \n9997  [gotta, love, her, ., glad, she, had, fun, ., ...   \n9998  [\", i'm, wore, out, like, the, waist, band, on...   \n9999  [\", how, do, you, like, them, apples, \", is, f...   \n\n                                              text_tags  \n0     [(<hashtag>, SYM), (-, :), (new, JJ), (hashtag...  \n1     [(<hashtag>, JJ), (why, WRB), (you, PRP), (and...  \n2     [(<hashtag>, NN), (that, WDT), (poor, JJ), (ki...  \n3     [(<hashtag>, NN), (had, VBD), (cream, VBN), (c...  \n4     [(=, SYM), (-, :), (trying, VBG), (to, TO), (f...  \n...                                                 ...  \n9995  [(not, RB), (even, RB), (one, CD), (single, JJ...  \n9996  [(<hashtag>, NN), (has, VBZ), (an, DT), (aweso...  \n9997  [(gotta, NN), (love, VB), (her, PRP$), (., .),...  \n9998  [(\", JJ), (i'm, NN), (wore, VBD), (out, RP), (...  \n9999  [(\", VB), (how, WRB), (do, VB), (you, PRP), (l...  \n\n[10000 rows x 5 columns]",
      "text/html": "<div>\n<style scoped>\n    .dataframe tbody tr th:only-of-type {\n        vertical-align: middle;\n    }\n\n    .dataframe tbody tr th {\n        vertical-align: top;\n    }\n\n    .dataframe thead th {\n        text-align: right;\n    }\n</style>\n<table border=\"1\" class=\"dataframe\">\n  <thead>\n    <tr style=\"text-align: right;\">\n      <th></th>\n      <th>Sentiment</th>\n      <th>SentimentText</th>\n      <th>processed_text</th>\n      <th>tokenized_text</th>\n      <th>text_tags</th>\n    </tr>\n  </thead>\n  <tbody>\n    <tr>\n      <th>0</th>\n      <td>1</td>\n      <td>#mygarage - new hashtag for the interesting ri...</td>\n      <td>&lt;hashtag&gt; - new hashtag for the interesting ri...</td>\n      <td>[&lt;hashtag&gt;, -, new, hashtag, for, the, interes...</td>\n      <td>[(&lt;hashtag&gt;, SYM), (-, :), (new, JJ), (hashtag...</td>\n    </tr>\n    <tr>\n      <th>1</th>\n      <td>0</td>\n      <td>#Haveyouever why you and your mom just can't g...</td>\n      <td>&lt;hashtag&gt; why you and your mom just can't get ...</td>\n      <td>[&lt;hashtag&gt;, why, you, and, your, mom, just, ca...</td>\n      <td>[(&lt;hashtag&gt;, JJ), (why, WRB), (you, PRP), (and...</td>\n    </tr>\n    <tr>\n      <th>2</th>\n      <td>0</td>\n      <td>#BGT That poor kid</td>\n      <td>&lt;hashtag&gt; that poor kid</td>\n      <td>[&lt;hashtag&gt;, that, poor, kid]</td>\n      <td>[(&lt;hashtag&gt;, NN), (that, WDT), (poor, JJ), (ki...</td>\n    </tr>\n    <tr>\n      <th>3</th>\n      <td>1</td>\n      <td>#haveyouever had cream cheese &amp;amp; french fri...</td>\n      <td>&lt;hashtag&gt; had cream cheese &amp;amp; french fries ...</td>\n      <td>[&lt;hashtag&gt;, had, cream, cheese, &amp;, french, fri...</td>\n      <td>[(&lt;hashtag&gt;, NN), (had, VBD), (cream, VBN), (c...</td>\n    </tr>\n    <tr>\n      <th>4</th>\n      <td>1</td>\n      <td>=- trying to figure out this Twitter thingie</td>\n      <td>=- trying to figure out this twitter thingie</td>\n      <td>[=, -, trying, to, figure, out, this, twitter,...</td>\n      <td>[(=, SYM), (-, :), (trying, VBG), (to, TO), (f...</td>\n    </tr>\n    <tr>\n      <th>...</th>\n      <td>...</td>\n      <td>...</td>\n      <td>...</td>\n      <td>...</td>\n      <td>...</td>\n    </tr>\n    <tr>\n      <th>9995</th>\n      <td>0</td>\n      <td>not even one single reply.what are people loo...</td>\n      <td>not even one single reply.what are people loo...</td>\n      <td>[not, even, one, single, reply.what, are, peop...</td>\n      <td>[(not, RB), (even, RB), (one, CD), (single, JJ...</td>\n    </tr>\n    <tr>\n      <th>9996</th>\n      <td>1</td>\n      <td>#phish has an awesome fog machine. oh wait.  n...</td>\n      <td>&lt;hashtag&gt; has an awesome fog machine. oh wait....</td>\n      <td>[&lt;hashtag&gt;, has, an, awesome, fog, machine, .,...</td>\n      <td>[(&lt;hashtag&gt;, NN), (has, VBZ), (an, DT), (aweso...</td>\n    </tr>\n    <tr>\n      <th>9997</th>\n      <td>1</td>\n      <td>gotta love her. glad she had fun. looking for...</td>\n      <td>gotta love her. glad she had fun. looking for...</td>\n      <td>[gotta, love, her, ., glad, she, had, fun, ., ...</td>\n      <td>[(gotta, NN), (love, VB), (her, PRP$), (., .),...</td>\n    </tr>\n    <tr>\n      <th>9998</th>\n      <td>1</td>\n      <td>&amp;quot;I'm wore out like the waist band on some...</td>\n      <td>&amp;quot;i'm wore out like the waist band on some...</td>\n      <td>[\", i'm, wore, out, like, the, waist, band, on...</td>\n      <td>[(\", JJ), (i'm, NN), (wore, VBD), (out, RP), (...</td>\n    </tr>\n    <tr>\n      <th>9999</th>\n      <td>1</td>\n      <td>&amp;quot;how do you like them apples&amp;quot; is fro...</td>\n      <td>&amp;quot;how do you like them apples&amp;quot; is fro...</td>\n      <td>[\", how, do, you, like, them, apples, \", is, f...</td>\n      <td>[(\", VB), (how, WRB), (do, VB), (you, PRP), (l...</td>\n    </tr>\n  </tbody>\n</table>\n<p>10000 rows × 5 columns</p>\n</div>"
     },
     "execution_count": 19,
     "metadata": {},
     "output_type": "execute_result"
    }
   ],
   "source": [
    "# Apply the replace_special_tokens function to the 'SentimentText' column to preprocess the text\n",
    "df_tweet_sentiment[\"processed_text\"] = df_tweet_sentiment[\"SentimentText\"].apply(\n",
    "    replace_special_tokens\n",
    ")\n",
    "\n",
    "# Tokenize the processed text using the TweetTokenizer\n",
    "df_tweet_sentiment[\"tokenized_text\"] = df_tweet_sentiment[\"processed_text\"].apply(\n",
    "    lambda x: tweet_wt.tokenize(x)\n",
    ")\n",
    "\n",
    "# Tag the tokenized text with part-of-speech tags using the PerceptronTagger\n",
    "df_tweet_sentiment[\"text_tags\"] = df_tweet_sentiment[\"tokenized_text\"].apply(\n",
    "    lambda x: tagger.tag(x)\n",
    ")\n",
    "df_tweet_sentiment"
   ]
  },
  {
   "cell_type": "code",
   "execution_count": 20,
   "metadata": {
    "id": "epLzK6k9f56M",
    "ExecuteTime": {
     "end_time": "2024-09-23T11:48:53.596077Z",
     "start_time": "2024-09-23T11:48:53.593314Z"
    }
   },
   "outputs": [],
   "source": [
    "# Function to lemmatize a sequence of tokens with POS tags\n",
    "def lemma(sequence):\n",
    "    return [\n",
    "        lemmatizer.lemmatize(token, pos=nltk_pos_tagger(pos_tag))\n",
    "        if nltk_pos_tagger(pos_tag) != None\n",
    "        else lemmatizer.lemmatize(token)\n",
    "        for token, pos_tag in sequence\n",
    "    ]"
   ]
  },
  {
   "cell_type": "code",
   "execution_count": 21,
   "metadata": {
    "collapsed": false,
    "ExecuteTime": {
     "end_time": "2024-09-23T11:48:56.214047Z",
     "start_time": "2024-09-23T11:48:55.975641Z"
    }
   },
   "outputs": [],
   "source": [
    "# Apply the lemma function to the 'text_tags' column of the dataframe\n",
    "# 'text_tags' is assumed to be a list of (token, pos_tag) tuples for each tweet\n",
    "df_tweet_sentiment[\"lemmatized_text\"] = df_tweet_sentiment[\"text_tags\"].apply(\n",
    "    lambda x: lemma(x)\n",
    ")"
   ]
  },
  {
   "cell_type": "code",
   "execution_count": 22,
   "metadata": {
    "collapsed": false,
    "ExecuteTime": {
     "end_time": "2024-09-23T11:48:56.800448Z",
     "start_time": "2024-09-23T11:48:56.775388Z"
    }
   },
   "outputs": [
    {
     "data": {
      "text/plain": "      Sentiment                                      SentimentText  \\\n0             1  #mygarage - new hashtag for the interesting ri...   \n1             0  #Haveyouever why you and your mom just can't g...   \n2             0                                #BGT That poor kid    \n3             1  #haveyouever had cream cheese &amp; french fri...   \n4             1       =- trying to figure out this Twitter thingie   \n...         ...                                                ...   \n9995          0   not even one single reply.what are people loo...   \n9996          1  #phish has an awesome fog machine. oh wait.  n...   \n9997          1   gotta love her. glad she had fun. looking for...   \n9998          1  &quot;I'm wore out like the waist band on some...   \n9999          1  &quot;how do you like them apples&quot; is fro...   \n\n                                         processed_text  \\\n0     <hashtag> - new hashtag for the interesting ri...   \n1     <hashtag> why you and your mom just can't get ...   \n2                              <hashtag> that poor kid    \n3     <hashtag> had cream cheese &amp; french fries ...   \n4          =- trying to figure out this twitter thingie   \n...                                                 ...   \n9995   not even one single reply.what are people loo...   \n9996  <hashtag> has an awesome fog machine. oh wait....   \n9997   gotta love her. glad she had fun. looking for...   \n9998  &quot;i'm wore out like the waist band on some...   \n9999  &quot;how do you like them apples&quot; is fro...   \n\n                                         tokenized_text  \\\n0     [<hashtag>, -, new, hashtag, for, the, interes...   \n1     [<hashtag>, why, you, and, your, mom, just, ca...   \n2                          [<hashtag>, that, poor, kid]   \n3     [<hashtag>, had, cream, cheese, &, french, fri...   \n4     [=, -, trying, to, figure, out, this, twitter,...   \n...                                                 ...   \n9995  [not, even, one, single, reply.what, are, peop...   \n9996  [<hashtag>, has, an, awesome, fog, machine, .,...   \n9997  [gotta, love, her, ., glad, she, had, fun, ., ...   \n9998  [\", i'm, wore, out, like, the, waist, band, on...   \n9999  [\", how, do, you, like, them, apples, \", is, f...   \n\n                                              text_tags  \\\n0     [(<hashtag>, SYM), (-, :), (new, JJ), (hashtag...   \n1     [(<hashtag>, JJ), (why, WRB), (you, PRP), (and...   \n2     [(<hashtag>, NN), (that, WDT), (poor, JJ), (ki...   \n3     [(<hashtag>, NN), (had, VBD), (cream, VBN), (c...   \n4     [(=, SYM), (-, :), (trying, VBG), (to, TO), (f...   \n...                                                 ...   \n9995  [(not, RB), (even, RB), (one, CD), (single, JJ...   \n9996  [(<hashtag>, NN), (has, VBZ), (an, DT), (aweso...   \n9997  [(gotta, NN), (love, VB), (her, PRP$), (., .),...   \n9998  [(\", JJ), (i'm, NN), (wore, VBD), (out, RP), (...   \n9999  [(\", VB), (how, WRB), (do, VB), (you, PRP), (l...   \n\n                                        lemmatized_text  \\\n0     [<hashtag>, -, new, hashtag, for, the, interes...   \n1     [<hashtag>, why, you, and, your, mom, just, ca...   \n2                          [<hashtag>, that, poor, kid]   \n3     [<hashtag>, have, cream, cheese, &, french, fr...   \n4     [=, -, try, to, figure, out, this, twitter, th...   \n...                                                 ...   \n9995  [not, even, one, single, reply.what, be, peopl...   \n9996  [<hashtag>, have, an, awesome, fog, machine, ....   \n9997  [gotta, love, her, ., glad, she, have, fun, .,...   \n9998  [\", i'm, wear, out, like, the, waist, band, on...   \n9999  [\", how, do, you, like, them, apple, \", be, fr...   \n\n                                 lemmatized_text_joined  \n0     <hashtag> - new hashtag for the interesting ri...  \n1     <hashtag> why you and your mom just can't get ...  \n2                               <hashtag> that poor kid  \n3     <hashtag> have cream cheese & french fry ( sen...  \n4            = - try to figure out this twitter thingie  \n...                                                 ...  \n9995  not even one single reply.what be people look ...  \n9996  <hashtag> have an awesome fog machine . oh wai...  \n9997  gotta love her . glad she have fun . look forw...  \n9998  \" i'm wear out like the waist band on some old...  \n9999  \" how do you like them apple \" be from the mov...  \n\n[10000 rows x 7 columns]",
      "text/html": "<div>\n<style scoped>\n    .dataframe tbody tr th:only-of-type {\n        vertical-align: middle;\n    }\n\n    .dataframe tbody tr th {\n        vertical-align: top;\n    }\n\n    .dataframe thead th {\n        text-align: right;\n    }\n</style>\n<table border=\"1\" class=\"dataframe\">\n  <thead>\n    <tr style=\"text-align: right;\">\n      <th></th>\n      <th>Sentiment</th>\n      <th>SentimentText</th>\n      <th>processed_text</th>\n      <th>tokenized_text</th>\n      <th>text_tags</th>\n      <th>lemmatized_text</th>\n      <th>lemmatized_text_joined</th>\n    </tr>\n  </thead>\n  <tbody>\n    <tr>\n      <th>0</th>\n      <td>1</td>\n      <td>#mygarage - new hashtag for the interesting ri...</td>\n      <td>&lt;hashtag&gt; - new hashtag for the interesting ri...</td>\n      <td>[&lt;hashtag&gt;, -, new, hashtag, for, the, interes...</td>\n      <td>[(&lt;hashtag&gt;, SYM), (-, :), (new, JJ), (hashtag...</td>\n      <td>[&lt;hashtag&gt;, -, new, hashtag, for, the, interes...</td>\n      <td>&lt;hashtag&gt; - new hashtag for the interesting ri...</td>\n    </tr>\n    <tr>\n      <th>1</th>\n      <td>0</td>\n      <td>#Haveyouever why you and your mom just can't g...</td>\n      <td>&lt;hashtag&gt; why you and your mom just can't get ...</td>\n      <td>[&lt;hashtag&gt;, why, you, and, your, mom, just, ca...</td>\n      <td>[(&lt;hashtag&gt;, JJ), (why, WRB), (you, PRP), (and...</td>\n      <td>[&lt;hashtag&gt;, why, you, and, your, mom, just, ca...</td>\n      <td>&lt;hashtag&gt; why you and your mom just can't get ...</td>\n    </tr>\n    <tr>\n      <th>2</th>\n      <td>0</td>\n      <td>#BGT That poor kid</td>\n      <td>&lt;hashtag&gt; that poor kid</td>\n      <td>[&lt;hashtag&gt;, that, poor, kid]</td>\n      <td>[(&lt;hashtag&gt;, NN), (that, WDT), (poor, JJ), (ki...</td>\n      <td>[&lt;hashtag&gt;, that, poor, kid]</td>\n      <td>&lt;hashtag&gt; that poor kid</td>\n    </tr>\n    <tr>\n      <th>3</th>\n      <td>1</td>\n      <td>#haveyouever had cream cheese &amp;amp; french fri...</td>\n      <td>&lt;hashtag&gt; had cream cheese &amp;amp; french fries ...</td>\n      <td>[&lt;hashtag&gt;, had, cream, cheese, &amp;, french, fri...</td>\n      <td>[(&lt;hashtag&gt;, NN), (had, VBD), (cream, VBN), (c...</td>\n      <td>[&lt;hashtag&gt;, have, cream, cheese, &amp;, french, fr...</td>\n      <td>&lt;hashtag&gt; have cream cheese &amp; french fry ( sen...</td>\n    </tr>\n    <tr>\n      <th>4</th>\n      <td>1</td>\n      <td>=- trying to figure out this Twitter thingie</td>\n      <td>=- trying to figure out this twitter thingie</td>\n      <td>[=, -, trying, to, figure, out, this, twitter,...</td>\n      <td>[(=, SYM), (-, :), (trying, VBG), (to, TO), (f...</td>\n      <td>[=, -, try, to, figure, out, this, twitter, th...</td>\n      <td>= - try to figure out this twitter thingie</td>\n    </tr>\n    <tr>\n      <th>...</th>\n      <td>...</td>\n      <td>...</td>\n      <td>...</td>\n      <td>...</td>\n      <td>...</td>\n      <td>...</td>\n      <td>...</td>\n    </tr>\n    <tr>\n      <th>9995</th>\n      <td>0</td>\n      <td>not even one single reply.what are people loo...</td>\n      <td>not even one single reply.what are people loo...</td>\n      <td>[not, even, one, single, reply.what, are, peop...</td>\n      <td>[(not, RB), (even, RB), (one, CD), (single, JJ...</td>\n      <td>[not, even, one, single, reply.what, be, peopl...</td>\n      <td>not even one single reply.what be people look ...</td>\n    </tr>\n    <tr>\n      <th>9996</th>\n      <td>1</td>\n      <td>#phish has an awesome fog machine. oh wait.  n...</td>\n      <td>&lt;hashtag&gt; has an awesome fog machine. oh wait....</td>\n      <td>[&lt;hashtag&gt;, has, an, awesome, fog, machine, .,...</td>\n      <td>[(&lt;hashtag&gt;, NN), (has, VBZ), (an, DT), (aweso...</td>\n      <td>[&lt;hashtag&gt;, have, an, awesome, fog, machine, ....</td>\n      <td>&lt;hashtag&gt; have an awesome fog machine . oh wai...</td>\n    </tr>\n    <tr>\n      <th>9997</th>\n      <td>1</td>\n      <td>gotta love her. glad she had fun. looking for...</td>\n      <td>gotta love her. glad she had fun. looking for...</td>\n      <td>[gotta, love, her, ., glad, she, had, fun, ., ...</td>\n      <td>[(gotta, NN), (love, VB), (her, PRP$), (., .),...</td>\n      <td>[gotta, love, her, ., glad, she, have, fun, .,...</td>\n      <td>gotta love her . glad she have fun . look forw...</td>\n    </tr>\n    <tr>\n      <th>9998</th>\n      <td>1</td>\n      <td>&amp;quot;I'm wore out like the waist band on some...</td>\n      <td>&amp;quot;i'm wore out like the waist band on some...</td>\n      <td>[\", i'm, wore, out, like, the, waist, band, on...</td>\n      <td>[(\", JJ), (i'm, NN), (wore, VBD), (out, RP), (...</td>\n      <td>[\", i'm, wear, out, like, the, waist, band, on...</td>\n      <td>\" i'm wear out like the waist band on some old...</td>\n    </tr>\n    <tr>\n      <th>9999</th>\n      <td>1</td>\n      <td>&amp;quot;how do you like them apples&amp;quot; is fro...</td>\n      <td>&amp;quot;how do you like them apples&amp;quot; is fro...</td>\n      <td>[\", how, do, you, like, them, apples, \", is, f...</td>\n      <td>[(\", VB), (how, WRB), (do, VB), (you, PRP), (l...</td>\n      <td>[\", how, do, you, like, them, apple, \", be, fr...</td>\n      <td>\" how do you like them apple \" be from the mov...</td>\n    </tr>\n  </tbody>\n</table>\n<p>10000 rows × 7 columns</p>\n</div>"
     },
     "execution_count": 22,
     "metadata": {},
     "output_type": "execute_result"
    }
   ],
   "source": [
    "# Apply a lambda function to the 'lemmatized_text' column of the dataframe\n",
    "# This lambda function joins the list of lemmatized tokens into a single string\n",
    "# Each token is separated by a space\n",
    "df_tweet_sentiment[\"lemmatized_text_joined\"] = df_tweet_sentiment[\n",
    "    \"lemmatized_text\"\n",
    "].apply(lambda x: \" \".join(x))\n",
    "df_tweet_sentiment"
   ]
  },
  {
   "cell_type": "code",
   "execution_count": 23,
   "metadata": {
    "collapsed": false,
    "ExecuteTime": {
     "end_time": "2024-09-23T11:49:02.708266Z",
     "start_time": "2024-09-23T11:49:02.668342Z"
    }
   },
   "outputs": [
    {
     "name": "stdout",
     "output_type": "stream",
     "text": [
      "Training texts: 8000\n",
      "Testing texts: 2000\n"
     ]
    }
   ],
   "source": [
    "x_train, x_test, y_train, y_test = train_test_split(\n",
    "    df_tweet_sentiment[\"lemmatized_text_joined\"],\n",
    "    df_tweet_sentiment[\"Sentiment\"],\n",
    "    test_size=0.2,\n",
    "    random_state=23828748,\n",
    ")\n",
    "print(\"Training texts:\", len(x_train))\n",
    "print(\"Testing texts:\", len(x_test))"
   ]
  },
  {
   "cell_type": "markdown",
   "metadata": {
    "id": "vR52ysJYgjsI"
   },
   "source": [
    "# TF-Idf Vectorizer"
   ]
  },
  {
   "cell_type": "code",
   "execution_count": 24,
   "metadata": {
    "collapsed": false,
    "ExecuteTime": {
     "end_time": "2024-09-23T11:49:04.273867Z",
     "start_time": "2024-09-23T11:49:04.243283Z"
    }
   },
   "outputs": [],
   "source": [
    "# Use unigram & bi-gram tf*idf features\n",
    "vectorizer = TfidfVectorizer(\n",
    "    ngram_range=(1, 2),\n",
    "    max_features=5000,\n",
    "    sublinear_tf=True,\n",
    "    stop_words=stopwords.words(\"english\"),\n",
    ")"
   ]
  },
  {
   "cell_type": "code",
   "execution_count": 25,
   "metadata": {
    "collapsed": false,
    "ExecuteTime": {
     "end_time": "2024-09-23T11:49:04.761596Z",
     "start_time": "2024-09-23T11:49:04.688198Z"
    }
   },
   "outputs": [
    {
     "name": "stdout",
     "output_type": "stream",
     "text": [
      "['abit' 'able' 'able get' 'able go' 'absolutely' 'abt' 'ac' 'accent'\n",
      " 'accident' 'accord']\n"
     ]
    }
   ],
   "source": [
    "# Fit Vectorizer on train data\n",
    "# Transform on all data (train - test)\n",
    "x_train_tfidf = vectorizer.fit_transform(x_train)\n",
    "x_test_tfidf = vectorizer.transform(x_test)\n",
    "\n",
    "print(vectorizer.get_feature_names_out()[:10])"
   ]
  },
  {
   "cell_type": "code",
   "execution_count": 26,
   "metadata": {
    "collapsed": false,
    "ExecuteTime": {
     "end_time": "2024-09-23T11:49:05.323170Z",
     "start_time": "2024-09-23T11:49:05.307419Z"
    }
   },
   "outputs": [
    {
     "name": "stdout",
     "output_type": "stream",
     "text": [
      "Shape of training data: (8000, 5000)\n",
      "Shape of test data: (2000, 5000)\n",
      "\n"
     ]
    }
   ],
   "source": [
    "print(\"Shape of training data: {}\".format(x_train_tfidf.shape))\n",
    "print(\"Shape of test data: {}\\n\".format(x_test_tfidf.shape))"
   ]
  },
  {
   "cell_type": "code",
   "execution_count": 27,
   "metadata": {
    "collapsed": false,
    "ExecuteTime": {
     "end_time": "2024-09-23T11:49:05.753319Z",
     "start_time": "2024-09-23T11:49:05.736471Z"
    }
   },
   "outputs": [
    {
     "name": "stdout",
     "output_type": "stream",
     "text": [
      "<class 'scipy.sparse._csr.csr_matrix'>\n",
      "  (0, 981)\t0.2610531758549099\n",
      "  (0, 1751)\t0.25554243762248685\n",
      "  (0, 1828)\t0.5442627260277735\n",
      "  (0, 1973)\t0.19380063494342722\n",
      "  (0, 2777)\t0.3761954790174606\n",
      "  (0, 3286)\t0.3705922776538255\n",
      "  (0, 3364)\t0.33761772231426157\n",
      "  (0, 4306)\t0.29730987577023926\n",
      "  (0, 4637)\t0.17434063328693597\n",
      "  (0, 4648)\t0.14537359164051272\n"
     ]
    }
   ],
   "source": [
    "# sparse matrix --> Saves only the cells where tf*idf is not zero\n",
    "print(type(x_test_tfidf))\n",
    "print(x_test_tfidf[0, :])"
   ]
  },
  {
   "cell_type": "markdown",
   "metadata": {
    "id": "J-6kp8qzkHNl"
   },
   "source": [
    "# Baseline"
   ]
  },
  {
   "cell_type": "code",
   "execution_count": 28,
   "metadata": {
    "collapsed": false,
    "ExecuteTime": {
     "end_time": "2024-09-23T11:49:06.629666Z",
     "start_time": "2024-09-23T11:49:06.620525Z"
    }
   },
   "outputs": [
    {
     "name": "stdout",
     "output_type": "stream",
     "text": [
      "Training took: 0.0008039474487304688 seconds \n",
      "\n"
     ]
    }
   ],
   "source": [
    "# Train\n",
    "# The dummy classifier always predicts the 'most frequent' class\n",
    "baseline = DummyClassifier(strategy=\"most_frequent\")\n",
    "start_time = time.time()\n",
    "baseline.fit(x_train_tfidf, y_train)\n",
    "print(\"Training took: {} seconds \\n\".format(time.time() - start_time))"
   ]
  },
  {
   "cell_type": "code",
   "execution_count": 29,
   "metadata": {
    "collapsed": false,
    "ExecuteTime": {
     "end_time": "2024-09-23T11:49:06.987156Z",
     "start_time": "2024-09-23T11:49:06.961536Z"
    }
   },
   "outputs": [
    {
     "name": "stdout",
     "output_type": "stream",
     "text": [
      "Train accuracy: 50.25%\n",
      "Test accuracy: 49.00% \n",
      "\n",
      "#Class 0 in Train dataset: (4020,)\n",
      "#Class 1 in Train dataset: (3980,)\n"
     ]
    }
   ],
   "source": [
    "# Evaluate\n",
    "predictions = baseline.predict(x_train_tfidf)\n",
    "score = accuracy_score(y_train, predictions)\n",
    "print(\"Train accuracy: {:.2f}%\".format(score * 100))\n",
    "\n",
    "predictions_test = baseline.predict(x_test_tfidf)\n",
    "score = accuracy_score(y_test, predictions_test)\n",
    "print(\"Test accuracy: {:.2f}% \\n\".format(score * 100))\n",
    "\n",
    "print(\"#Class 0 in Train dataset:\", np.where(y_train == 0)[0].shape)\n",
    "print(\"#Class 1 in Train dataset:\", np.where(y_train == 1)[0].shape)"
   ]
  },
  {
   "cell_type": "code",
   "execution_count": 30,
   "metadata": {
    "collapsed": false,
    "ExecuteTime": {
     "end_time": "2024-09-23T11:49:07.318013Z",
     "start_time": "2024-09-23T11:49:07.291489Z"
    }
   },
   "outputs": [
    {
     "name": "stdout",
     "output_type": "stream",
     "text": [
      "Classification Report for TRAIN data set:\n",
      "              precision    recall  f1-score   support\n",
      "\n",
      "           0       0.50      1.00      0.67      4020\n",
      "           1       0.00      0.00      0.00      3980\n",
      "\n",
      "    accuracy                           0.50      8000\n",
      "   macro avg       0.25      0.50      0.33      8000\n",
      "weighted avg       0.25      0.50      0.34      8000\n",
      "\n"
     ]
    },
    {
     "name": "stderr",
     "output_type": "stream",
     "text": [
      "/Users/antonal/ta2/lib/python3.11/site-packages/sklearn/metrics/_classification.py:1517: UndefinedMetricWarning: Precision is ill-defined and being set to 0.0 in labels with no predicted samples. Use `zero_division` parameter to control this behavior.\n",
      "  _warn_prf(average, modifier, f\"{metric.capitalize()} is\", len(result))\n",
      "/Users/antonal/ta2/lib/python3.11/site-packages/sklearn/metrics/_classification.py:1517: UndefinedMetricWarning: Precision is ill-defined and being set to 0.0 in labels with no predicted samples. Use `zero_division` parameter to control this behavior.\n",
      "  _warn_prf(average, modifier, f\"{metric.capitalize()} is\", len(result))\n",
      "/Users/antonal/ta2/lib/python3.11/site-packages/sklearn/metrics/_classification.py:1517: UndefinedMetricWarning: Precision is ill-defined and being set to 0.0 in labels with no predicted samples. Use `zero_division` parameter to control this behavior.\n",
      "  _warn_prf(average, modifier, f\"{metric.capitalize()} is\", len(result))\n"
     ]
    }
   ],
   "source": [
    "print(\"Classification Report for TRAIN data set:\")\n",
    "print(classification_report(y_train, predictions))"
   ]
  },
  {
   "cell_type": "code",
   "execution_count": 31,
   "metadata": {
    "collapsed": false,
    "ExecuteTime": {
     "end_time": "2024-09-23T11:49:07.917615Z",
     "start_time": "2024-09-23T11:49:07.893408Z"
    }
   },
   "outputs": [
    {
     "name": "stdout",
     "output_type": "stream",
     "text": [
      "Classification Report for TEST data set:\n",
      "              precision    recall  f1-score   support\n",
      "\n",
      "           0       0.49      1.00      0.66       980\n",
      "           1       0.00      0.00      0.00      1020\n",
      "\n",
      "    accuracy                           0.49      2000\n",
      "   macro avg       0.24      0.50      0.33      2000\n",
      "weighted avg       0.24      0.49      0.32      2000\n",
      "\n"
     ]
    },
    {
     "name": "stderr",
     "output_type": "stream",
     "text": [
      "/Users/antonal/ta2/lib/python3.11/site-packages/sklearn/metrics/_classification.py:1517: UndefinedMetricWarning: Precision is ill-defined and being set to 0.0 in labels with no predicted samples. Use `zero_division` parameter to control this behavior.\n",
      "  _warn_prf(average, modifier, f\"{metric.capitalize()} is\", len(result))\n",
      "/Users/antonal/ta2/lib/python3.11/site-packages/sklearn/metrics/_classification.py:1517: UndefinedMetricWarning: Precision is ill-defined and being set to 0.0 in labels with no predicted samples. Use `zero_division` parameter to control this behavior.\n",
      "  _warn_prf(average, modifier, f\"{metric.capitalize()} is\", len(result))\n",
      "/Users/antonal/ta2/lib/python3.11/site-packages/sklearn/metrics/_classification.py:1517: UndefinedMetricWarning: Precision is ill-defined and being set to 0.0 in labels with no predicted samples. Use `zero_division` parameter to control this behavior.\n",
      "  _warn_prf(average, modifier, f\"{metric.capitalize()} is\", len(result))\n"
     ]
    }
   ],
   "source": [
    "print(\"Classification Report for TEST data set:\")\n",
    "print(classification_report(y_test, predictions_test))"
   ]
  },
  {
   "cell_type": "code",
   "execution_count": 32,
   "metadata": {
    "collapsed": false,
    "ExecuteTime": {
     "end_time": "2024-09-23T11:49:08.612118Z",
     "start_time": "2024-09-23T11:49:08.337002Z"
    }
   },
   "outputs": [
    {
     "name": "stdout",
     "output_type": "stream",
     "text": [
      "\n",
      "Confusion Matrix for test data:\n"
     ]
    },
    {
     "data": {
      "text/plain": "<sklearn.metrics._plot.confusion_matrix.ConfusionMatrixDisplay at 0x29dae81d0>"
     },
     "execution_count": 32,
     "metadata": {},
     "output_type": "execute_result"
    },
    {
     "data": {
      "text/plain": "<Figure size 640x480 with 2 Axes>",
      "image/png": "[encoded data removed]"
     },
     "metadata": {},
     "output_type": "display_data"
    }
   ],
   "source": [
    "print(\"\\nConfusion Matrix for test data:\")\n",
    "ConfusionMatrixDisplay.from_estimator(\n",
    "    baseline, x_test_tfidf, y_test, values_format=\".0f\"\n",
    ")"
   ]
  },
  {
   "cell_type": "markdown",
   "metadata": {
    "id": "ipNyo53lkeKy"
   },
   "source": [
    "# Logistic Regression"
   ]
  },
  {
   "cell_type": "code",
   "execution_count": 33,
   "metadata": {
    "collapsed": false,
    "ExecuteTime": {
     "end_time": "2024-09-23T11:49:10.134954Z",
     "start_time": "2024-09-23T11:49:09.417720Z"
    }
   },
   "outputs": [
    {
     "data": {
      "text/plain": "0.752"
     },
     "execution_count": 33,
     "metadata": {},
     "output_type": "execute_result"
    }
   ],
   "source": [
    "# Cross Validation Logistic Regression\n",
    "# Fit the model with CV\n",
    "log_cv = LogisticRegressionCV(\n",
    "    cv=3, Cs=8, random_state=2, penalty=\"l2\", solver=\"liblinear\"\n",
    ").fit(x_train_tfidf, y_train)\n",
    "# Score\n",
    "log_cv.score(x_test_tfidf, y_test)"
   ]
  },
  {
   "cell_type": "code",
   "execution_count": 34,
   "metadata": {
    "collapsed": false,
    "ExecuteTime": {
     "end_time": "2024-09-23T11:49:10.139415Z",
     "start_time": "2024-09-23T11:49:10.130999Z"
    }
   },
   "outputs": [],
   "source": [
    "predictions = log_cv.predict(x_train_tfidf)\n",
    "score = f1_score(y_train, predictions)"
   ]
  },
  {
   "cell_type": "code",
   "execution_count": 35,
   "metadata": {
    "collapsed": false,
    "ExecuteTime": {
     "end_time": "2024-09-23T11:49:10.219076Z",
     "start_time": "2024-09-23T11:49:10.201022Z"
    }
   },
   "outputs": [],
   "source": [
    "predictions_test = log_cv.predict(x_test_tfidf)\n",
    "score_pred = f1_score(y_test, predictions_test)"
   ]
  },
  {
   "cell_type": "code",
   "execution_count": 36,
   "metadata": {
    "collapsed": false,
    "ExecuteTime": {
     "end_time": "2024-09-23T11:49:10.706815Z",
     "start_time": "2024-09-23T11:49:10.686406Z"
    }
   },
   "outputs": [
    {
     "name": "stdout",
     "output_type": "stream",
     "text": [
      "Train f1-score: 89.71% \n",
      "\n",
      "Classification Report for TRAIN data set:\n",
      "              precision    recall  f1-score   support\n",
      "\n",
      "           0       0.90      0.90      0.90      4020\n",
      "           1       0.90      0.90      0.90      3980\n",
      "\n",
      "    accuracy                           0.90      8000\n",
      "   macro avg       0.90      0.90      0.90      8000\n",
      "weighted avg       0.90      0.90      0.90      8000\n",
      "\n"
     ]
    }
   ],
   "source": [
    "print(\"Train f1-score: {:.2f}% \\n\".format(score * 100))\n",
    "print(\"Classification Report for TRAIN data set:\")\n",
    "print(classification_report(y_train, predictions))"
   ]
  },
  {
   "cell_type": "code",
   "execution_count": 37,
   "metadata": {
    "collapsed": false,
    "ExecuteTime": {
     "end_time": "2024-09-23T11:49:11.177321Z",
     "start_time": "2024-09-23T11:49:11.141916Z"
    }
   },
   "outputs": [
    {
     "name": "stdout",
     "output_type": "stream",
     "text": [
      "Test f1-score: 75.73% \n",
      "\n",
      "Classification Report for TEST data set:\n",
      "              precision    recall  f1-score   support\n",
      "\n",
      "           0       0.75      0.74      0.75       980\n",
      "           1       0.76      0.76      0.76      1020\n",
      "\n",
      "    accuracy                           0.75      2000\n",
      "   macro avg       0.75      0.75      0.75      2000\n",
      "weighted avg       0.75      0.75      0.75      2000\n",
      "\n"
     ]
    }
   ],
   "source": [
    "print(\"Test f1-score: {:.2f}% \\n\".format(score_pred * 100))\n",
    "print(\"Classification Report for TEST data set:\")\n",
    "print(classification_report(y_test, predictions_test))"
   ]
  },
  {
   "cell_type": "code",
   "execution_count": 38,
   "metadata": {
    "colab": {
     "base_uri": "https://localhost:8080/",
     "height": 918
    },
    "id": "5jSvz2vMpAyF",
    "outputId": "2b1c353c-0731-47b8-b123-eb5cdccc2de0",
    "ExecuteTime": {
     "end_time": "2024-09-23T11:49:11.667224Z",
     "start_time": "2024-09-23T11:49:11.594487Z"
    }
   },
   "outputs": [
    {
     "name": "stdout",
     "output_type": "stream",
     "text": [
      "\n",
      "Confusion Matrix for test data:\n"
     ]
    },
    {
     "data": {
      "text/plain": "<sklearn.metrics._plot.confusion_matrix.ConfusionMatrixDisplay at 0x29df6d310>"
     },
     "execution_count": 38,
     "metadata": {},
     "output_type": "execute_result"
    },
    {
     "data": {
      "text/plain": "<Figure size 640x480 with 2 Axes>",
      "image/png": "[encoded data removed]"
     },
     "metadata": {},
     "output_type": "display_data"
    }
   ],
   "source": [
    "print(\"\\nConfusion Matrix for test data:\")\n",
    "ConfusionMatrixDisplay.from_estimator(log_cv, x_test_tfidf, y_test, values_format=\".0f\")"
   ]
  },
  {
   "cell_type": "markdown",
   "source": [
    "# MLP text classifier in Keras with centroids word embeddings"
   ],
   "metadata": {
    "collapsed": false
   }
  },
  {
   "cell_type": "code",
   "execution_count": 39,
   "metadata": {
    "id": "KD_VNkezknMS",
    "ExecuteTime": {
     "end_time": "2024-09-23T11:49:12.727884Z",
     "start_time": "2024-09-23T11:49:12.720220Z"
    }
   },
   "outputs": [],
   "source": [
    "X_train_new, X_val, y_train_new, y_val = train_test_split(\n",
    "    x_train, y_train, test_size=1 / 8, random_state=23828748\n",
    ")"
   ]
  },
  {
   "cell_type": "code",
   "execution_count": 65,
   "metadata": {
    "id": "ga8w4E4hFKuU",
    "ExecuteTime": {
     "end_time": "2024-09-23T11:59:19.821061Z",
     "start_time": "2024-09-23T11:59:19.791289Z"
    }
   },
   "outputs": [],
   "source": [
    "# Convert with Keras\n",
    "y_train_1_hot = tf.keras.utils.to_categorical(\n",
    "    y_train_new, num_classes=len(y_train_new.unique())\n",
    ")  # 7000\n",
    "\n",
    "y_val_1_hot = tf.keras.utils.to_categorical(\n",
    "    y_val, num_classes=len(y_val.unique())\n",
    ")  # 1000\n",
    "\n",
    "y_test_1_hot = tf.keras.utils.to_categorical(\n",
    "    y_test, num_classes=len(y_test.unique())\n",
    ")  # 2000\n",
    "\n",
    "\n",
    "y_train_old_1_hot = tf.keras.utils.to_categorical(\n",
    "    y_train, num_classes=len(y_train.unique())\n",
    ")  # 8000"
   ]
  },
  {
   "cell_type": "code",
   "execution_count": 41,
   "metadata": {
    "colab": {
     "base_uri": "https://localhost:8080/"
    },
    "id": "2DuG0havoMS6",
    "outputId": "6a6d525a-40e9-4048-ac0c-a867b480b6f3",
    "ExecuteTime": {
     "end_time": "2024-09-23T11:49:49.833151Z",
     "start_time": "2024-09-23T11:49:14.171924Z"
    }
   },
   "outputs": [],
   "source": [
    "# Download and load Google news embeddings\n",
    "wv = api.load(\"glove-twitter-100\")"
   ]
  },
  {
   "cell_type": "markdown",
   "metadata": {
    "id": "BDJE0O3caG4c"
   },
   "source": [
    "## Calculate centroids"
   ]
  },
  {
   "cell_type": "code",
   "execution_count": 42,
   "metadata": {
    "id": "LTr5Gs8Al5AT",
    "ExecuteTime": {
     "end_time": "2024-09-23T11:49:49.837774Z",
     "start_time": "2024-09-23T11:49:49.834482Z"
    }
   },
   "outputs": [],
   "source": [
    "# Define a function to calculate the centroid of a text document\n",
    "def text_centroid(text, model):\n",
    "    text = text.split()  # Split the text into individual words\n",
    "    text_vec = []        # Initialize an empty list to store word vectors\n",
    "    counter = 0          # Counter to keep track of valid words (non-stopwords)\n",
    "\n",
    "    # Iterate through each word in the text\n",
    "    for word in text:\n",
    "        if word in STOP_WORDS:  # Skip stopwords (commonly used words that do not provide useful information)\n",
    "            continue\n",
    "        try:\n",
    "            if counter == 0:\n",
    "                # Get the word vector for the first valid word (in lowercase)\n",
    "                text_vec = model[word.lower()]\n",
    "            else:\n",
    "                # Add the word vector for the current word to the running sum\n",
    "                text_vec = np.add(text_vec, model[word.lower()])\n",
    "            counter += 1  # Increment the valid word counter\n",
    "        except:  # Skip words that are not in the model's vocabulary\n",
    "            pass\n",
    "\n",
    "    # If no valid words were found, return a zero vector\n",
    "    if counter == 0:\n",
    "        return np.zeros(model.vector_size)\n",
    "\n",
    "    # Return the average of the word vectors (centroid) by dividing the sum by the counter\n",
    "    return np.asarray(text_vec) / counter"
   ]
  },
  {
   "cell_type": "code",
   "execution_count": 43,
   "metadata": {
    "id": "Kds4AWAGqKtc",
    "ExecuteTime": {
     "end_time": "2024-09-23T11:49:49.975322Z",
     "start_time": "2024-09-23T11:49:49.844491Z"
    }
   },
   "outputs": [],
   "source": [
    "# Calculate centroids for the training documents\n",
    "X_train_centroids = []\n",
    "for sentence in X_train_new:\n",
    "    X_train_centroids.append(text_centroid(sentence, wv))  # Calculate the centroid for each sentence\n",
    "X_train_centroids = np.stack(X_train_centroids, axis=0)    # Convert the list of centroids to a NumPy array\n",
    "\n",
    "# Calculate centroids for the validation documents\n",
    "X_val_centroids = []\n",
    "for sentence in X_val:\n",
    "    X_val_centroids.append(text_centroid(sentence, wv))     # Calculate centroids for validation data\n",
    "X_val_centroids = np.stack(X_val_centroids, axis=0)         # Convert to a NumPy array\n",
    "\n",
    "# Calculate centroids for the test documents\n",
    "X_test_centroids = []\n",
    "for sentence in x_test:\n",
    "    X_test_centroids.append(text_centroid(sentence, wv))    # Calculate centroids for test data\n",
    "X_test_centroids = np.stack(X_test_centroids, axis=0)       # Convert to a NumPy array"
   ]
  },
  {
   "cell_type": "code",
   "execution_count": 45,
   "outputs": [],
   "source": [
    "# Define a custom callback class Metrics that inherits from tf.keras.callbacks.Callback\n",
    "class Metrics(tf.keras.callbacks.Callback):\n",
    "    # Initialize the class with validation data\n",
    "    def __init__(self, valid_data):\n",
    "        # Call the parent class's initializer\n",
    "        super(Metrics, self).__init__()\n",
    "        # Store the validation data\n",
    "        self.validation_data = valid_data\n",
    "\n",
    "    # This method is called at the end of each epoch\n",
    "    def on_epoch_end(self, epoch, logs=None):\n",
    "        # If logs dictionary is not provided, initialize it as an empty dictionary\n",
    "        logs = logs or {}\n",
    "        # Predict the output for validation data and take the class with the highest probability\n",
    "        val_predict = np.argmax(self.model.predict(self.validation_data[0]), -1)\n",
    "        # Get the actual validation targets\n",
    "        val_targ = self.validation_data[1]\n",
    "        # Cast the validation targets to float32 type\n",
    "        val_targ = tf.cast(val_targ, dtype=tf.float32)\n",
    "        # If the validation targets are one-hot encoded, convert them to label encoded\n",
    "        if len(val_targ.shape) == 2 and val_targ.shape[1] != 1:\n",
    "            val_targ = np.argmax(val_targ, -1)\n",
    "\n",
    "        # Calculate the weighted F1 score\n",
    "        _val_f1 = f1_score(val_targ, val_predict, average=\"weighted\")\n",
    "        # Calculate the weighted recall\n",
    "        _val_recall = recall_score(val_targ, val_predict, average=\"weighted\")\n",
    "        # Calculate the weighted precision\n",
    "        _val_precision = precision_score(val_targ, val_predict, average=\"weighted\")\n",
    "\n",
    "        # Log the calculated metrics\n",
    "        logs[\"val_f1\"] = _val_f1\n",
    "        logs[\"val_recall\"] = _val_recall\n",
    "        logs[\"val_precision\"] = _val_precision\n",
    "        # Print the calculated metrics\n",
    "        print(\n",
    "            \" — val_f1: %f — val_precision: %f — val_recall: %f\"\n",
    "            % (_val_f1, _val_precision, _val_recall)\n",
    "        )\n",
    "        return"
   ],
   "metadata": {
    "collapsed": false,
    "ExecuteTime": {
     "end_time": "2024-09-23T11:51:02.822666Z",
     "start_time": "2024-09-23T11:51:02.800576Z"
    }
   }
  },
  {
   "cell_type": "code",
   "execution_count": 46,
   "metadata": {
    "colab": {
     "base_uri": "https://localhost:8080/"
    },
    "id": "voqKW_NnZhoC",
    "outputId": "4788ec83-c9ab-411b-80dd-ec9e1a58fa34",
    "ExecuteTime": {
     "end_time": "2024-09-23T11:51:31.205084Z",
     "start_time": "2024-09-23T11:51:16.842557Z"
    }
   },
   "outputs": [
    {
     "name": "stderr",
     "output_type": "stream",
     "text": [
      "/Users/antonal/ta2/lib/python3.11/site-packages/keras/src/layers/core/dense.py:87: UserWarning: Do not pass an `input_shape`/`input_dim` argument to a layer. When using Sequential models, prefer using an `Input(shape)` object as the first layer in the model instead.\n",
      "  super().__init__(activity_regularizer=activity_regularizer, **kwargs)\n"
     ]
    },
    {
     "data": {
      "text/plain": "\u001B[1mModel: \"sequential_1\"\u001B[0m\n",
      "text/html": "<pre style=\"white-space:pre;overflow-x:auto;line-height:normal;font-family:Menlo,'DejaVu Sans Mono',consolas,'Courier New',monospace\"><span style=\"font-weight: bold\">Model: \"sequential_1\"</span>\n</pre>\n"
     },
     "metadata": {},
     "output_type": "display_data"
    },
    {
     "data": {
      "text/plain": "┏━━━━━━━━━━━━━━━━━━━━━━━━━━━━━━━━━┳━━━━━━━━━━━━━━━━━━━━━━━━┳━━━━━━━━━━━━━━━┓\n┃\u001B[1m \u001B[0m\u001B[1mLayer (type)                   \u001B[0m\u001B[1m \u001B[0m┃\u001B[1m \u001B[0m\u001B[1mOutput Shape          \u001B[0m\u001B[1m \u001B[0m┃\u001B[1m \u001B[0m\u001B[1m      Param #\u001B[0m\u001B[1m \u001B[0m┃\n┡━━━━━━━━━━━━━━━━━━━━━━━━━━━━━━━━━╇━━━━━━━━━━━━━━━━━━━━━━━━╇━━━━━━━━━━━━━━━┩\n│ dense_4 (\u001B[38;5;33mDense\u001B[0m)                 │ (\u001B[38;5;45mNone\u001B[0m, \u001B[38;5;34m1024\u001B[0m)           │       \u001B[38;5;34m103,424\u001B[0m │\n├─────────────────────────────────┼────────────────────────┼───────────────┤\n│ dropout_3 (\u001B[38;5;33mDropout\u001B[0m)             │ (\u001B[38;5;45mNone\u001B[0m, \u001B[38;5;34m1024\u001B[0m)           │             \u001B[38;5;34m0\u001B[0m │\n├─────────────────────────────────┼────────────────────────┼───────────────┤\n│ dense_5 (\u001B[38;5;33mDense\u001B[0m)                 │ (\u001B[38;5;45mNone\u001B[0m, \u001B[38;5;34m1024\u001B[0m)           │     \u001B[38;5;34m1,049,600\u001B[0m │\n├─────────────────────────────────┼────────────────────────┼───────────────┤\n│ dropout_4 (\u001B[38;5;33mDropout\u001B[0m)             │ (\u001B[38;5;45mNone\u001B[0m, \u001B[38;5;34m1024\u001B[0m)           │             \u001B[38;5;34m0\u001B[0m │\n├─────────────────────────────────┼────────────────────────┼───────────────┤\n│ dense_6 (\u001B[38;5;33mDense\u001B[0m)                 │ (\u001B[38;5;45mNone\u001B[0m, \u001B[38;5;34m512\u001B[0m)            │       \u001B[38;5;34m524,800\u001B[0m │\n├─────────────────────────────────┼────────────────────────┼───────────────┤\n│ dropout_5 (\u001B[38;5;33mDropout\u001B[0m)             │ (\u001B[38;5;45mNone\u001B[0m, \u001B[38;5;34m512\u001B[0m)            │             \u001B[38;5;34m0\u001B[0m │\n├─────────────────────────────────┼────────────────────────┼───────────────┤\n│ dense_7 (\u001B[38;5;33mDense\u001B[0m)                 │ (\u001B[38;5;45mNone\u001B[0m, \u001B[38;5;34m2\u001B[0m)              │         \u001B[38;5;34m1,026\u001B[0m │\n└─────────────────────────────────┴────────────────────────┴───────────────┘\n",
      "text/html": "<pre style=\"white-space:pre;overflow-x:auto;line-height:normal;font-family:Menlo,'DejaVu Sans Mono',consolas,'Courier New',monospace\">┏━━━━━━━━━━━━━━━━━━━━━━━━━━━━━━━━━┳━━━━━━━━━━━━━━━━━━━━━━━━┳━━━━━━━━━━━━━━━┓\n┃<span style=\"font-weight: bold\"> Layer (type)                    </span>┃<span style=\"font-weight: bold\"> Output Shape           </span>┃<span style=\"font-weight: bold\">       Param # </span>┃\n┡━━━━━━━━━━━━━━━━━━━━━━━━━━━━━━━━━╇━━━━━━━━━━━━━━━━━━━━━━━━╇━━━━━━━━━━━━━━━┩\n│ dense_4 (<span style=\"color: #0087ff; text-decoration-color: #0087ff\">Dense</span>)                 │ (<span style=\"color: #00d7ff; text-decoration-color: #00d7ff\">None</span>, <span style=\"color: #00af00; text-decoration-color: #00af00\">1024</span>)           │       <span style=\"color: #00af00; text-decoration-color: #00af00\">103,424</span> │\n├─────────────────────────────────┼────────────────────────┼───────────────┤\n│ dropout_3 (<span style=\"color: #0087ff; text-decoration-color: #0087ff\">Dropout</span>)             │ (<span style=\"color: #00d7ff; text-decoration-color: #00d7ff\">None</span>, <span style=\"color: #00af00; text-decoration-color: #00af00\">1024</span>)           │             <span style=\"color: #00af00; text-decoration-color: #00af00\">0</span> │\n├─────────────────────────────────┼────────────────────────┼───────────────┤\n│ dense_5 (<span style=\"color: #0087ff; text-decoration-color: #0087ff\">Dense</span>)                 │ (<span style=\"color: #00d7ff; text-decoration-color: #00d7ff\">None</span>, <span style=\"color: #00af00; text-decoration-color: #00af00\">1024</span>)           │     <span style=\"color: #00af00; text-decoration-color: #00af00\">1,049,600</span> │\n├─────────────────────────────────┼────────────────────────┼───────────────┤\n│ dropout_4 (<span style=\"color: #0087ff; text-decoration-color: #0087ff\">Dropout</span>)             │ (<span style=\"color: #00d7ff; text-decoration-color: #00d7ff\">None</span>, <span style=\"color: #00af00; text-decoration-color: #00af00\">1024</span>)           │             <span style=\"color: #00af00; text-decoration-color: #00af00\">0</span> │\n├─────────────────────────────────┼────────────────────────┼───────────────┤\n│ dense_6 (<span style=\"color: #0087ff; text-decoration-color: #0087ff\">Dense</span>)                 │ (<span style=\"color: #00d7ff; text-decoration-color: #00d7ff\">None</span>, <span style=\"color: #00af00; text-decoration-color: #00af00\">512</span>)            │       <span style=\"color: #00af00; text-decoration-color: #00af00\">524,800</span> │\n├─────────────────────────────────┼────────────────────────┼───────────────┤\n│ dropout_5 (<span style=\"color: #0087ff; text-decoration-color: #0087ff\">Dropout</span>)             │ (<span style=\"color: #00d7ff; text-decoration-color: #00d7ff\">None</span>, <span style=\"color: #00af00; text-decoration-color: #00af00\">512</span>)            │             <span style=\"color: #00af00; text-decoration-color: #00af00\">0</span> │\n├─────────────────────────────────┼────────────────────────┼───────────────┤\n│ dense_7 (<span style=\"color: #0087ff; text-decoration-color: #0087ff\">Dense</span>)                 │ (<span style=\"color: #00d7ff; text-decoration-color: #00d7ff\">None</span>, <span style=\"color: #00af00; text-decoration-color: #00af00\">2</span>)              │         <span style=\"color: #00af00; text-decoration-color: #00af00\">1,026</span> │\n└─────────────────────────────────┴────────────────────────┴───────────────┘\n</pre>\n"
     },
     "metadata": {},
     "output_type": "display_data"
    },
    {
     "data": {
      "text/plain": "\u001B[1m Total params: \u001B[0m\u001B[38;5;34m1,678,850\u001B[0m (6.40 MB)\n",
      "text/html": "<pre style=\"white-space:pre;overflow-x:auto;line-height:normal;font-family:Menlo,'DejaVu Sans Mono',consolas,'Courier New',monospace\"><span style=\"font-weight: bold\"> Total params: </span><span style=\"color: #00af00; text-decoration-color: #00af00\">1,678,850</span> (6.40 MB)\n</pre>\n"
     },
     "metadata": {},
     "output_type": "display_data"
    },
    {
     "data": {
      "text/plain": "\u001B[1m Trainable params: \u001B[0m\u001B[38;5;34m1,678,850\u001B[0m (6.40 MB)\n",
      "text/html": "<pre style=\"white-space:pre;overflow-x:auto;line-height:normal;font-family:Menlo,'DejaVu Sans Mono',consolas,'Courier New',monospace\"><span style=\"font-weight: bold\"> Trainable params: </span><span style=\"color: #00af00; text-decoration-color: #00af00\">1,678,850</span> (6.40 MB)\n</pre>\n"
     },
     "metadata": {},
     "output_type": "display_data"
    },
    {
     "data": {
      "text/plain": "\u001B[1m Non-trainable params: \u001B[0m\u001B[38;5;34m0\u001B[0m (0.00 B)\n",
      "text/html": "<pre style=\"white-space:pre;overflow-x:auto;line-height:normal;font-family:Menlo,'DejaVu Sans Mono',consolas,'Courier New',monospace\"><span style=\"font-weight: bold\"> Non-trainable params: </span><span style=\"color: #00af00; text-decoration-color: #00af00\">0</span> (0.00 B)\n</pre>\n"
     },
     "metadata": {},
     "output_type": "display_data"
    },
    {
     "name": "stdout",
     "output_type": "stream",
     "text": [
      "None\n",
      "Epoch 1/100\n",
      "\u001B[1m32/32\u001B[0m \u001B[32m━━━━━━━━━━━━━━━━━━━━\u001B[0m\u001B[37m\u001B[0m \u001B[1m0s\u001B[0m 2ms/step\n",
      " — val_f1: 0.731704 — val_precision: 0.749755 — val_recall: 0.734000\n",
      "\u001B[1m28/28\u001B[0m \u001B[32m━━━━━━━━━━━━━━━━━━━━\u001B[0m\u001B[37m\u001B[0m \u001B[1m2s\u001B[0m 37ms/step - categorical_accuracy: 0.6159 - loss: 0.6419 - val_categorical_accuracy: 0.7340 - val_loss: 0.5251 - val_f1: 0.7317 - val_recall: 0.7340 - val_precision: 0.7498\n",
      "Epoch 2/100\n",
      "\u001B[1m32/32\u001B[0m \u001B[32m━━━━━━━━━━━━━━━━━━━━\u001B[0m\u001B[37m\u001B[0m \u001B[1m0s\u001B[0m 1ms/stepp - categ\n",
      " — val_f1: 0.746784 — val_precision: 0.751444 — val_recall: 0.747000\n",
      "\u001B[1m28/28\u001B[0m \u001B[32m━━━━━━━━━━━━━━━━━━━━\u001B[0m\u001B[37m\u001B[0m \u001B[1m1s\u001B[0m 21ms/step - categorical_accuracy: 0.7637 - loss: 0.4929 - val_categorical_accuracy: 0.7470 - val_loss: 0.4896 - val_f1: 0.7468 - val_recall: 0.7470 - val_precision: 0.7514\n",
      "Epoch 3/100\n",
      "\u001B[1m32/32\u001B[0m \u001B[32m━━━━━━━━━━━━━━━━━━━━\u001B[0m\u001B[37m\u001B[0m \u001B[1m0s\u001B[0m 1ms/stepp - categ\n",
      " — val_f1: 0.741275 — val_precision: 0.749680 — val_recall: 0.742000\n",
      "\u001B[1m28/28\u001B[0m \u001B[32m━━━━━━━━━━━━━━━━━━━━\u001B[0m\u001B[37m\u001B[0m \u001B[1m1s\u001B[0m 18ms/step - categorical_accuracy: 0.7749 - loss: 0.4640 - val_categorical_accuracy: 0.7420 - val_loss: 0.4960 - val_f1: 0.7413 - val_recall: 0.7420 - val_precision: 0.7497\n",
      "Epoch 4/100\n",
      "\u001B[1m32/32\u001B[0m \u001B[32m━━━━━━━━━━━━━━━━━━━━\u001B[0m\u001B[37m\u001B[0m \u001B[1m0s\u001B[0m 1ms/stepp - categ\n",
      " — val_f1: 0.758943 — val_precision: 0.758924 — val_recall: 0.759000\n",
      "\u001B[1m28/28\u001B[0m \u001B[32m━━━━━━━━━━━━━━━━━━━━\u001B[0m\u001B[37m\u001B[0m \u001B[1m1s\u001B[0m 18ms/step - categorical_accuracy: 0.7891 - loss: 0.4541 - val_categorical_accuracy: 0.7590 - val_loss: 0.4758 - val_f1: 0.7589 - val_recall: 0.7590 - val_precision: 0.7589\n",
      "Epoch 5/100\n",
      "\u001B[1m32/32\u001B[0m \u001B[32m━━━━━━━━━━━━━━━━━━━━\u001B[0m\u001B[37m\u001B[0m \u001B[1m0s\u001B[0m 1ms/stepp - categ\n",
      " — val_f1: 0.766101 — val_precision: 0.767085 — val_recall: 0.766000\n",
      "\u001B[1m28/28\u001B[0m \u001B[32m━━━━━━━━━━━━━━━━━━━━\u001B[0m\u001B[37m\u001B[0m \u001B[1m1s\u001B[0m 18ms/step - categorical_accuracy: 0.7968 - loss: 0.4296 - val_categorical_accuracy: 0.7660 - val_loss: 0.4905 - val_f1: 0.7661 - val_recall: 0.7660 - val_precision: 0.7671\n",
      "Epoch 6/100\n",
      "\u001B[1m32/32\u001B[0m \u001B[32m━━━━━━━━━━━━━━━━━━━━\u001B[0m\u001B[37m\u001B[0m \u001B[1m0s\u001B[0m 1ms/stepp - categ\n",
      " — val_f1: 0.759401 — val_precision: 0.763962 — val_recall: 0.761000\n",
      "\u001B[1m28/28\u001B[0m \u001B[32m━━━━━━━━━━━━━━━━━━━━\u001B[0m\u001B[37m\u001B[0m \u001B[1m1s\u001B[0m 19ms/step - categorical_accuracy: 0.8092 - loss: 0.4167 - val_categorical_accuracy: 0.7610 - val_loss: 0.4762 - val_f1: 0.7594 - val_recall: 0.7610 - val_precision: 0.7640\n",
      "Epoch 7/100\n",
      "\u001B[1m32/32\u001B[0m \u001B[32m━━━━━━━━━━━━━━━━━━━━\u001B[0m\u001B[37m\u001B[0m \u001B[1m0s\u001B[0m 1ms/stepp - categ\n",
      " — val_f1: 0.771100 — val_precision: 0.772016 — val_recall: 0.771000\n",
      "\u001B[1m28/28\u001B[0m \u001B[32m━━━━━━━━━━━━━━━━━━━━\u001B[0m\u001B[37m\u001B[0m \u001B[1m0s\u001B[0m 17ms/step - categorical_accuracy: 0.8043 - loss: 0.4104 - val_categorical_accuracy: 0.7710 - val_loss: 0.4902 - val_f1: 0.7711 - val_recall: 0.7710 - val_precision: 0.7720\n",
      "Epoch 8/100\n",
      "\u001B[1m32/32\u001B[0m \u001B[32m━━━━━━━━━━━━━━━━━━━━\u001B[0m\u001B[37m\u001B[0m \u001B[1m0s\u001B[0m 1ms/stepp - categ\n",
      " — val_f1: 0.769402 — val_precision: 0.770599 — val_recall: 0.770000\n",
      "\u001B[1m28/28\u001B[0m \u001B[32m━━━━━━━━━━━━━━━━━━━━\u001B[0m\u001B[37m\u001B[0m \u001B[1m0s\u001B[0m 17ms/step - categorical_accuracy: 0.8268 - loss: 0.3829 - val_categorical_accuracy: 0.7700 - val_loss: 0.4841 - val_f1: 0.7694 - val_recall: 0.7700 - val_precision: 0.7706\n",
      "Epoch 9/100\n",
      "\u001B[1m32/32\u001B[0m \u001B[32m━━━━━━━━━━━━━━━━━━━━\u001B[0m\u001B[37m\u001B[0m \u001B[1m0s\u001B[0m 992us/step- categ\n",
      " — val_f1: 0.766714 — val_precision: 0.770326 — val_recall: 0.768000\n",
      "\u001B[1m28/28\u001B[0m \u001B[32m━━━━━━━━━━━━━━━━━━━━\u001B[0m\u001B[37m\u001B[0m \u001B[1m1s\u001B[0m 18ms/step - categorical_accuracy: 0.8377 - loss: 0.3652 - val_categorical_accuracy: 0.7680 - val_loss: 0.5040 - val_f1: 0.7667 - val_recall: 0.7680 - val_precision: 0.7703\n",
      "Epoch 10/100\n",
      "\u001B[1m32/32\u001B[0m \u001B[32m━━━━━━━━━━━━━━━━━━━━\u001B[0m\u001B[37m\u001B[0m \u001B[1m0s\u001B[0m 1ms/stepp - categ\n",
      " — val_f1: 0.761071 — val_precision: 0.761265 — val_recall: 0.761000\n",
      "\u001B[1m28/28\u001B[0m \u001B[32m━━━━━━━━━━━━━━━━━━━━\u001B[0m\u001B[37m\u001B[0m \u001B[1m1s\u001B[0m 19ms/step - categorical_accuracy: 0.8430 - loss: 0.3563 - val_categorical_accuracy: 0.7610 - val_loss: 0.5150 - val_f1: 0.7611 - val_recall: 0.7610 - val_precision: 0.7613\n",
      "Epoch 11/100\n",
      "\u001B[1m32/32\u001B[0m \u001B[32m━━━━━━━━━━━━━━━━━━━━\u001B[0m\u001B[37m\u001B[0m \u001B[1m0s\u001B[0m 1ms/stepp - categ\n",
      " — val_f1: 0.761082 — val_precision: 0.761347 — val_recall: 0.761000\n",
      "\u001B[1m28/28\u001B[0m \u001B[32m━━━━━━━━━━━━━━━━━━━━\u001B[0m\u001B[37m\u001B[0m \u001B[1m1s\u001B[0m 18ms/step - categorical_accuracy: 0.8644 - loss: 0.3273 - val_categorical_accuracy: 0.7610 - val_loss: 0.5560 - val_f1: 0.7611 - val_recall: 0.7610 - val_precision: 0.7613\n",
      "Epoch 12/100\n",
      "\u001B[1m32/32\u001B[0m \u001B[32m━━━━━━━━━━━━━━━━━━━━\u001B[0m\u001B[37m\u001B[0m \u001B[1m0s\u001B[0m 1ms/stepp - categ\n",
      " — val_f1: 0.752079 — val_precision: 0.753700 — val_recall: 0.752000\n",
      "\u001B[1m28/28\u001B[0m \u001B[32m━━━━━━━━━━━━━━━━━━━━\u001B[0m\u001B[37m\u001B[0m \u001B[1m1s\u001B[0m 18ms/step - categorical_accuracy: 0.8659 - loss: 0.3035 - val_categorical_accuracy: 0.7520 - val_loss: 0.5643 - val_f1: 0.7521 - val_recall: 0.7520 - val_precision: 0.7537\n",
      "Epoch 13/100\n",
      "\u001B[1m32/32\u001B[0m \u001B[32m━━━━━━━━━━━━━━━━━━━━\u001B[0m\u001B[37m\u001B[0m \u001B[1m0s\u001B[0m 1ms/stepp - categ\n",
      " — val_f1: 0.758967 — val_precision: 0.758948 — val_recall: 0.759000\n",
      "\u001B[1m28/28\u001B[0m \u001B[32m━━━━━━━━━━━━━━━━━━━━\u001B[0m\u001B[37m\u001B[0m \u001B[1m0s\u001B[0m 17ms/step - categorical_accuracy: 0.8712 - loss: 0.3058 - val_categorical_accuracy: 0.7590 - val_loss: 0.6054 - val_f1: 0.7590 - val_recall: 0.7590 - val_precision: 0.7589\n",
      "Epoch 14/100\n",
      "\u001B[1m32/32\u001B[0m \u001B[32m━━━━━━━━━━━━━━━━━━━━\u001B[0m\u001B[37m\u001B[0m \u001B[1m0s\u001B[0m 1ms/stepp - categ\n",
      " — val_f1: 0.754916 — val_precision: 0.754906 — val_recall: 0.755000\n",
      "\u001B[1m28/28\u001B[0m \u001B[32m━━━━━━━━━━━━━━━━━━━━\u001B[0m\u001B[37m\u001B[0m \u001B[1m0s\u001B[0m 18ms/step - categorical_accuracy: 0.8831 - loss: 0.2688 - val_categorical_accuracy: 0.7550 - val_loss: 0.5798 - val_f1: 0.7549 - val_recall: 0.7550 - val_precision: 0.7549\n",
      "Epoch 15/100\n",
      "\u001B[1m32/32\u001B[0m \u001B[32m━━━━━━━━━━━━━━━━━━━━\u001B[0m\u001B[37m\u001B[0m \u001B[1m0s\u001B[0m 1ms/stepp - categ\n",
      " — val_f1: 0.765906 — val_precision: 0.769655 — val_recall: 0.766000\n",
      "\u001B[1m28/28\u001B[0m \u001B[32m━━━━━━━━━━━━━━━━━━━━\u001B[0m\u001B[37m\u001B[0m \u001B[1m1s\u001B[0m 18ms/step - categorical_accuracy: 0.8903 - loss: 0.2571 - val_categorical_accuracy: 0.7660 - val_loss: 0.5995 - val_f1: 0.7659 - val_recall: 0.7660 - val_precision: 0.7697\n",
      "Epoch 16/100\n",
      "\u001B[1m32/32\u001B[0m \u001B[32m━━━━━━━━━━━━━━━━━━━━\u001B[0m\u001B[37m\u001B[0m \u001B[1m0s\u001B[0m 1ms/stepp - categ\n",
      " — val_f1: 0.765044 — val_precision: 0.765125 — val_recall: 0.765000\n",
      "\u001B[1m28/28\u001B[0m \u001B[32m━━━━━━━━━━━━━━━━━━━━\u001B[0m\u001B[37m\u001B[0m \u001B[1m1s\u001B[0m 18ms/step - categorical_accuracy: 0.8906 - loss: 0.2585 - val_categorical_accuracy: 0.7650 - val_loss: 0.6426 - val_f1: 0.7650 - val_recall: 0.7650 - val_precision: 0.7651\n",
      "Epoch 17/100\n",
      "\u001B[1m32/32\u001B[0m \u001B[32m━━━━━━━━━━━━━━━━━━━━\u001B[0m\u001B[37m\u001B[0m \u001B[1m0s\u001B[0m 1ms/stepp - categ\n",
      " — val_f1: 0.751692 — val_precision: 0.757201 — val_recall: 0.752000\n",
      "\u001B[1m28/28\u001B[0m \u001B[32m━━━━━━━━━━━━━━━━━━━━\u001B[0m\u001B[37m\u001B[0m \u001B[1m1s\u001B[0m 18ms/step - categorical_accuracy: 0.9071 - loss: 0.2257 - val_categorical_accuracy: 0.7520 - val_loss: 0.7155 - val_f1: 0.7517 - val_recall: 0.7520 - val_precision: 0.7572\n",
      "Epoch 18/100\n",
      "\u001B[1m32/32\u001B[0m \u001B[32m━━━━━━━━━━━━━━━━━━━━\u001B[0m\u001B[37m\u001B[0m \u001B[1m0s\u001B[0m 1ms/stepp - categ\n",
      " — val_f1: 0.767496 — val_precision: 0.768384 — val_recall: 0.768000\n",
      "\u001B[1m28/28\u001B[0m \u001B[32m━━━━━━━━━━━━━━━━━━━━\u001B[0m\u001B[37m\u001B[0m \u001B[1m1s\u001B[0m 19ms/step - categorical_accuracy: 0.9126 - loss: 0.2167 - val_categorical_accuracy: 0.7680 - val_loss: 0.7192 - val_f1: 0.7675 - val_recall: 0.7680 - val_precision: 0.7684\n",
      "Epoch 19/100\n",
      "\u001B[1m32/32\u001B[0m \u001B[32m━━━━━━━━━━━━━━━━━━━━\u001B[0m\u001B[37m\u001B[0m \u001B[1m0s\u001B[0m 1ms/stepp - categ\n",
      " — val_f1: 0.742021 — val_precision: 0.742047 — val_recall: 0.742000\n",
      "\u001B[1m28/28\u001B[0m \u001B[32m━━━━━━━━━━━━━━━━━━━━\u001B[0m\u001B[37m\u001B[0m \u001B[1m1s\u001B[0m 18ms/step - categorical_accuracy: 0.9127 - loss: 0.2049 - val_categorical_accuracy: 0.7420 - val_loss: 0.8005 - val_f1: 0.7420 - val_recall: 0.7420 - val_precision: 0.7420\n",
      "Epoch 20/100\n",
      "\u001B[1m32/32\u001B[0m \u001B[32m━━━━━━━━━━━━━━━━━━━━\u001B[0m\u001B[37m\u001B[0m \u001B[1m0s\u001B[0m 1ms/stepp - categ\n",
      " — val_f1: 0.753898 — val_precision: 0.756469 — val_recall: 0.755000\n",
      "\u001B[1m28/28\u001B[0m \u001B[32m━━━━━━━━━━━━━━━━━━━━\u001B[0m\u001B[37m\u001B[0m \u001B[1m1s\u001B[0m 20ms/step - categorical_accuracy: 0.9208 - loss: 0.1916 - val_categorical_accuracy: 0.7550 - val_loss: 0.7439 - val_f1: 0.7539 - val_recall: 0.7550 - val_precision: 0.7565\n",
      "Epoch 21/100\n",
      "\u001B[1m32/32\u001B[0m \u001B[32m━━━━━━━━━━━━━━━━━━━━\u001B[0m\u001B[37m\u001B[0m \u001B[1m0s\u001B[0m 1ms/stepp - categ\n",
      " — val_f1: 0.742093 — val_precision: 0.742400 — val_recall: 0.742000\n",
      "\u001B[1m28/28\u001B[0m \u001B[32m━━━━━━━━━━━━━━━━━━━━\u001B[0m\u001B[37m\u001B[0m \u001B[1m1s\u001B[0m 18ms/step - categorical_accuracy: 0.9263 - loss: 0.1776 - val_categorical_accuracy: 0.7420 - val_loss: 0.8531 - val_f1: 0.7421 - val_recall: 0.7420 - val_precision: 0.7424\n",
      "Epoch 22/100\n",
      "\u001B[1m32/32\u001B[0m \u001B[32m━━━━━━━━━━━━━━━━━━━━\u001B[0m\u001B[37m\u001B[0m \u001B[1m0s\u001B[0m 1ms/stepp - categ\n",
      " — val_f1: 0.760000 — val_precision: 0.760000 — val_recall: 0.760000\n",
      "\u001B[1m28/28\u001B[0m \u001B[32m━━━━━━━━━━━━━━━━━━━━\u001B[0m\u001B[37m\u001B[0m \u001B[1m1s\u001B[0m 19ms/step - categorical_accuracy: 0.9328 - loss: 0.1719 - val_categorical_accuracy: 0.7600 - val_loss: 0.9715 - val_f1: 0.7600 - val_recall: 0.7600 - val_precision: 0.7600\n",
      "Epoch 23/100\n",
      "\u001B[1m32/32\u001B[0m \u001B[32m━━━━━━━━━━━━━━━━━━━━\u001B[0m\u001B[37m\u001B[0m \u001B[1m0s\u001B[0m 2ms/step\n",
      " — val_f1: 0.752097 — val_precision: 0.753374 — val_recall: 0.752000\n",
      "\u001B[1m28/28\u001B[0m \u001B[32m━━━━━━━━━━━━━━━━━━━━\u001B[0m\u001B[37m\u001B[0m \u001B[1m1s\u001B[0m 21ms/step - categorical_accuracy: 0.9332 - loss: 0.1727 - val_categorical_accuracy: 0.7520 - val_loss: 0.8778 - val_f1: 0.7521 - val_recall: 0.7520 - val_precision: 0.7534\n",
      "Epoch 24/100\n",
      "\u001B[1m32/32\u001B[0m \u001B[32m━━━━━━━━━━━━━━━━━━━━\u001B[0m\u001B[37m\u001B[0m \u001B[1m0s\u001B[0m 1ms/stepp - categ\n",
      " — val_f1: 0.743011 — val_precision: 0.743023 — val_recall: 0.743000\n",
      "\u001B[1m28/28\u001B[0m \u001B[32m━━━━━━━━━━━━━━━━━━━━\u001B[0m\u001B[37m\u001B[0m \u001B[1m1s\u001B[0m 27ms/step - categorical_accuracy: 0.9393 - loss: 0.1518 - val_categorical_accuracy: 0.7430 - val_loss: 0.8102 - val_f1: 0.7430 - val_recall: 0.7430 - val_precision: 0.7430\n",
      "Epoch 24: early stopping\n",
      "Restoring model weights from the end of the best epoch: 4.\n"
     ]
    }
   ],
   "source": [
    "# Define a new Sequential model\n",
    "model2 = Sequential()\n",
    "\n",
    "# Add the first dense (fully connected) layer with 1024 units and ReLU activation\n",
    "# The input dimension is set to the number of features in the centroid vectors (X_train_centroids)\n",
    "model2.add(Dense(1024, input_dim=X_train_centroids.shape[1], activation=\"relu\"))\n",
    "\n",
    "# Add a Dropout layer to reduce overfitting with a dropout rate of 0.3 (30% of neurons dropped)\n",
    "model2.add(Dropout(0.3))\n",
    "\n",
    "# Add a second dense layer with 1024 units and ReLU activation\n",
    "model2.add(Dense(1024, activation=\"relu\"))\n",
    "\n",
    "# Add another Dropout layer with a 30% dropout rate\n",
    "model2.add(Dropout(0.3))\n",
    "\n",
    "# Add a third dense layer with 512 units and ReLU activation\n",
    "model2.add(Dense(512, activation=\"relu\"))\n",
    "\n",
    "# Add another Dropout layer with a 30% dropout rate\n",
    "model2.add(Dropout(0.3))\n",
    "\n",
    "# Add the output layer with a softmax activation to classify into the number of unique classes\n",
    "# The number of units in the output layer matches the number of unique classes in the target\n",
    "model2.add(Dense(len(y_train_new.unique()), activation=\"softmax\"))\n",
    "\n",
    "# Print the model summary to display the structure and layers of the model\n",
    "print(model2.summary())\n",
    "\n",
    "# Compile the model with categorical cross-entropy as the loss function, Adam optimizer, and categorical accuracy metric\n",
    "model2.compile(\n",
    "    loss=\"categorical_crossentropy\",            # Loss function for multi-class classification\n",
    "    optimizer=Adam(learning_rate=0.001),        # Adam optimizer with a learning rate of 0.001\n",
    "    metrics=[CategoricalAccuracy()],            # Use categorical accuracy as the evaluation metric\n",
    ")\n",
    "\n",
    "# Define an EarlyStopping callback to stop training if the validation loss doesn't improve for 20 epochs\n",
    "early_stopping = EarlyStopping(patience=20, verbose=2, restore_best_weights=True)\n",
    "\n",
    "# Train the model using the training centroid vectors and one-hot encoded labels\n",
    "history2 = model2.fit(\n",
    "    X_train_centroids,               # Training feature set (centroid vectors)\n",
    "    y_train_1_hot,                   # Training labels (one-hot encoded)\n",
    "    validation_data=(X_val_centroids, y_val_1_hot),  # Validation data (centroid vectors and labels)\n",
    "    batch_size=256,                  # Batch size of 256\n",
    "    epochs=100,                      # Maximum number of epochs to train\n",
    "    shuffle=True,                    # Shuffle the training data at the start of each epoch\n",
    "    callbacks=[\n",
    "        Metrics(valid_data=(X_val_centroids, y_val_1_hot)),  # Custom metric callback for monitoring performance\n",
    "        early_stopping,  # Apply early stopping to prevent overfitting and restore the best weights\n",
    "    ],\n",
    ")"
   ]
  },
  {
   "cell_type": "markdown",
   "metadata": {
    "id": "h74dNgiVbQJE"
   },
   "source": [
    "# Visualize Model's Training History"
   ]
  },
  {
   "cell_type": "code",
   "execution_count": 47,
   "metadata": {
    "collapsed": false,
    "ExecuteTime": {
     "end_time": "2024-09-23T11:52:03.938899Z",
     "start_time": "2024-09-23T11:52:03.856815Z"
    }
   },
   "outputs": [
    {
     "data": {
      "text/plain": "<Figure size 640x480 with 1 Axes>",
      "image/png": "[encoded data removed]"
     },
     "metadata": {},
     "output_type": "display_data"
    }
   ],
   "source": [
    "# summarize history for accuracy\n",
    "plt.plot(history2.history[\"categorical_accuracy\"])\n",
    "plt.plot(history2.history[\"val_categorical_accuracy\"])\n",
    "plt.title(\"model accuracy\")\n",
    "plt.ylabel(\"accuracy\")\n",
    "plt.xlabel(\"epoch\")\n",
    "plt.legend([\"train\", \"dev\"], loc=\"upper left\")\n",
    "plt.xticks(range(1, len(history2.history[\"categorical_accuracy\"]) + 1, 4))\n",
    "plt.show()"
   ]
  },
  {
   "cell_type": "code",
   "execution_count": 48,
   "metadata": {
    "colab": {
     "base_uri": "https://localhost:8080/",
     "height": 927
    },
    "id": "RcYQpGqfZhq-",
    "outputId": "82bd2761-0df4-48bc-b13f-8e4ab80139ae",
    "ExecuteTime": {
     "end_time": "2024-09-23T11:52:04.855865Z",
     "start_time": "2024-09-23T11:52:04.770058Z"
    }
   },
   "outputs": [
    {
     "data": {
      "text/plain": "<Figure size 640x480 with 1 Axes>",
      "image/png": "[encoded data removed]"
     },
     "metadata": {},
     "output_type": "display_data"
    }
   ],
   "source": [
    "# summarize history for loss\n",
    "plt.plot(history2.history[\"loss\"])\n",
    "plt.plot(history2.history[\"val_loss\"])\n",
    "plt.title(\"model loss\")\n",
    "plt.ylabel(\"loss\")\n",
    "plt.xlabel(\"epoch\")\n",
    "plt.legend([\"train\", \"dev\"], loc=\"upper right\")\n",
    "plt.xticks(range(1, len(history2.history[\"loss\"]) + 1, 4))\n",
    "plt.show()"
   ]
  },
  {
   "cell_type": "code",
   "execution_count": 50,
   "metadata": {
    "id": "a8fuanqDZhtu",
    "ExecuteTime": {
     "end_time": "2024-09-23T11:52:40.614065Z",
     "start_time": "2024-09-23T11:52:40.501118Z"
    }
   },
   "outputs": [],
   "source": [
    "# create checkpoint dir if not exists\n",
    "if not os.path.exists(\"checkpoints\"):\n",
    "    os.makedirs(\"checkpoints\")\n",
    "\n",
    "# Save model & weights\n",
    "model2.save(\"checkpoints/MLP_centroids.keras\")"
   ]
  },
  {
   "cell_type": "code",
   "execution_count": 51,
   "outputs": [],
   "source": [
    "# load weights and model from the saved checkpoint\n",
    "centroids_model = load_model(\"checkpoints/MLP_centroids.keras\")"
   ],
   "metadata": {
    "collapsed": false,
    "ExecuteTime": {
     "end_time": "2024-09-23T11:52:50.785961Z",
     "start_time": "2024-09-23T11:52:50.714199Z"
    }
   }
  },
  {
   "cell_type": "code",
   "execution_count": 52,
   "outputs": [
    {
     "name": "stdout",
     "output_type": "stream",
     "text": [
      "\u001B[1m63/63\u001B[0m \u001B[32m━━━━━━━━━━━━━━━━━━━━\u001B[0m\u001B[37m\u001B[0m \u001B[1m0s\u001B[0m 1ms/step\n",
      "              precision    recall  f1-score   support\n",
      "\n",
      "           0       0.77      0.79      0.78       980\n",
      "           1       0.79      0.77      0.78      1020\n",
      "\n",
      "    accuracy                           0.78      2000\n",
      "   macro avg       0.78      0.78      0.78      2000\n",
      "weighted avg       0.78      0.78      0.78      2000\n",
      "\n"
     ]
    }
   ],
   "source": [
    "# Predict the class labels for the test data using model2 (centroid-based model)\n",
    "predictions = np.argmax(model2.predict(X_test_centroids), -1)\n",
    "\n",
    "# Print a classification report comparing the true labels and predicted labels for the test set\n",
    "print(classification_report(y_test, predictions))"
   ],
   "metadata": {
    "collapsed": false,
    "ExecuteTime": {
     "end_time": "2024-09-23T11:52:52.716510Z",
     "start_time": "2024-09-23T11:52:52.568914Z"
    }
   }
  },
  {
   "cell_type": "markdown",
   "source": [
    "# RNN GRU text classifier\n",
    "\n",
    "We need to tokenize our dataset so we can use the tokenized data in order to build the padding and the embedded vocabulary that we will use in the RNN GRU"
   ],
   "metadata": {
    "collapsed": false
   }
  },
  {
   "cell_type": "code",
   "execution_count": 86,
   "outputs": [],
   "source": [
    "def is_number(s):\n",
    "    # Try to convert the input to a float\n",
    "    try:\n",
    "        float(s)\n",
    "        return True\n",
    "    except ValueError:\n",
    "        # If a ValueError is raised, the input is not a number\n",
    "        return False"
   ],
   "metadata": {
    "collapsed": false,
    "ExecuteTime": {
     "end_time": "2024-09-23T12:08:01.762385Z",
     "start_time": "2024-09-23T12:08:01.750862Z"
    }
   }
  },
  {
   "cell_type": "code",
   "execution_count": 87,
   "outputs": [
    {
     "data": {
      "text/plain": "<spacy.pipeline.sentencizer.Sentencizer at 0x2ffeddb50>"
     },
     "execution_count": 87,
     "metadata": {},
     "output_type": "execute_result"
    }
   ],
   "source": [
    "# Load the English language model from Spacy, disabling the tagger, parser, named entity recognizer, and lemmatizer components\n",
    "nlp = spacy.load(\"en_core_web_sm\", disable=[\"tagger\", \"parser\",\"ner\", \"lemmatizer\"])\n",
    "\n",
    "# Add the sentencizer component to the pipeline. This component is responsible for splitting the text into sentences\n",
    "nlp.add_pipe('sentencizer')"
   ],
   "metadata": {
    "collapsed": false,
    "ExecuteTime": {
     "end_time": "2024-09-23T12:08:02.820160Z",
     "start_time": "2024-09-23T12:08:02.543763Z"
    }
   }
  },
  {
   "cell_type": "code",
   "execution_count": 97,
   "outputs": [
    {
     "name": "stderr",
     "output_type": "stream",
     "text": [
      "100%|██████████| 7000/7000 [00:12<00:00, 563.90it/s]\n"
     ]
    }
   ],
   "source": [
    "# Initialize an empty list to store the tokenized training data\n",
    "X_train_tokenized = []\n",
    "\n",
    "# Loop over each item in the training data\n",
    "for idx in tqdm(range(len(X_train_new))):\n",
    "  # Parse the text with Spacy\n",
    "  doc = nlp(X_train_new.iloc[idx])\n",
    "  # Initialize an empty list to store the tokens for this document\n",
    "  tokens = []\n",
    "  # Loop over each sentence in the document\n",
    "  for sent in doc.sents:\n",
    "    # Loop over each token in the sentence\n",
    "    for tok in sent:\n",
    "      # If the token is a newline, tab, double dash, asterisk, stop word, punctuation, all punctuation, or a number, skip it\n",
    "      if '\\n' in tok.text or \"\\t\" in tok.text or \"--\" in tok.text or \"*\" in tok.text or\\\n",
    "       tok.text.lower() in STOP_WORDS or tok.text in string.punctuation or\\\n",
    "        all(x in string.punctuation for x in tok.text) or is_number(tok.text):\n",
    "        continue\n",
    "      # If the token is not empty, add it to the list of tokens for this document\n",
    "      if tok.text.strip():\n",
    "        tokens.append(tok.text.replace('\"',\"'\").strip().lower())\n",
    "  # Add the list of tokens for this document to the list of tokenized training data\n",
    "  X_train_tokenized.append(tokens)"
   ],
   "metadata": {
    "collapsed": false,
    "ExecuteTime": {
     "end_time": "2024-09-23T12:10:55.396940Z",
     "start_time": "2024-09-23T12:10:42.973852Z"
    }
   }
  },
  {
   "cell_type": "code",
   "execution_count": 89,
   "outputs": [
    {
     "name": "stderr",
     "output_type": "stream",
     "text": [
      "100%|██████████| 1000/1000 [00:01<00:00, 524.42it/s]\n"
     ]
    }
   ],
   "source": [
    "# Loop over each item in the training data\n",
    "X_val_tokenized = []\n",
    "\n",
    "# Loop over each item in the training data\n",
    "for idx in tqdm(range(len(X_val))):\n",
    "  # Parse the text with Spacy\n",
    "  doc = nlp(X_val.iloc[idx])\n",
    "  # Initialize an empty list to store the tokens for this document\n",
    "  tokens = []\n",
    "  # Loop over each sentence in the document\n",
    "  for sent in doc.sents:\n",
    "    # Loop over each token in the sentence\n",
    "    for tok in sent:\n",
    "      # If the token is a newline, tab, double dash, asterisk, stop word, punctuation, all punctuation, or a number, skip it\n",
    "      if '\\n' in tok.text or \"\\t\" in tok.text or \"--\" in tok.text or \"*\" in tok.text or\\\n",
    "       tok.text.lower() in STOP_WORDS or tok.text in string.punctuation or\\\n",
    "        all(x in string.punctuation for x in tok.text) or is_number(tok.text):\n",
    "        continue\n",
    "      # If the token is not empty, add it to the list of tokens for this document\n",
    "      if tok.text.strip():\n",
    "        tokens.append(tok.text.replace('\"',\"'\").strip().lower())\n",
    "  # Add the list of tokens for this document to the list of tokenized validation data\n",
    "  X_val_tokenized.append(tokens)"
   ],
   "metadata": {
    "collapsed": false,
    "ExecuteTime": {
     "end_time": "2024-09-23T12:08:17.822309Z",
     "start_time": "2024-09-23T12:08:15.909994Z"
    }
   }
  },
  {
   "cell_type": "code",
   "execution_count": 90,
   "outputs": [
    {
     "name": "stderr",
     "output_type": "stream",
     "text": [
      "100%|██████████| 2000/2000 [00:03<00:00, 517.96it/s]\n"
     ]
    }
   ],
   "source": [
    "X_test_tokenized = []\n",
    "\n",
    "# Loop over each item in the training data\n",
    "for idx in tqdm(range(len(x_test))):\n",
    "  # Parse the text with Spacy\n",
    "  doc = nlp(x_test.iloc[idx])\n",
    "  # Initialize an empty list to store the tokens for this document\n",
    "  tokens = []\n",
    "  # Loop over each sentence in the document\n",
    "  for sent in doc.sents:\n",
    "    # Loop over each token in the sentence\n",
    "    for tok in sent:\n",
    "      # If the token is a newline, tab, double dash, asterisk, stop word, punctuation, all punctuation, or a number, skip it\n",
    "      if '\\n' in tok.text or \"\\t\" in tok.text or \"--\" in tok.text or \"*\" in tok.text or\\\n",
    "       tok.text.lower() in STOP_WORDS or tok.text in string.punctuation or\\\n",
    "        all(x in string.punctuation for x in tok.text) or is_number(tok.text):\n",
    "        continue\n",
    "      # If the token is not empty, add it to the list of tokens for this document\n",
    "      if tok.text.strip():\n",
    "        tokens.append(tok.text.replace('\"',\"'\").strip().lower())\n",
    "  # Add the list of tokens for this document to the list of tokenized testing data\n",
    "  X_test_tokenized.append(tokens)"
   ],
   "metadata": {
    "collapsed": false,
    "ExecuteTime": {
     "end_time": "2024-09-23T12:08:21.695319Z",
     "start_time": "2024-09-23T12:08:17.821853Z"
    }
   }
  },
  {
   "cell_type": "markdown",
   "source": [
    "### Vocabulary Creation"
   ],
   "metadata": {
    "collapsed": false
   }
  },
  {
   "cell_type": "code",
   "execution_count": 91,
   "outputs": [],
   "source": [
    "# Define the maximum number of words to keep, based on word frequency\n",
    "MAX_WORDS = 512\n",
    "\n",
    "# Define the maximum length of each sequence\n",
    "MAX_SEQUENCE_LENGTH = 256\n",
    "\n",
    "# Define the dimension of the dense embedding\n",
    "EMBEDDING_DIM = 100"
   ],
   "metadata": {
    "collapsed": false,
    "ExecuteTime": {
     "end_time": "2024-09-23T12:08:21.695400Z",
     "start_time": "2024-09-23T12:08:21.687064Z"
    }
   }
  },
  {
   "cell_type": "code",
   "execution_count": 98,
   "outputs": [
    {
     "name": "stdout",
     "output_type": "stream",
     "text": [
      "(20, 'feel')\n",
      "(1, 'shallow')\n",
      "(1, 'breath')\n",
      "(1, 'squeeze')\n",
      "(1, 'past')\n",
      "(1, 'pound')\n",
      "(1, 'stone')\n",
      "(1, 'laid')\n",
      "(1, 'chest')\n"
     ]
    }
   ],
   "source": [
    "# Create a TextVectorization layer\n",
    "# This layer transforms strings into integer representations that can be read by an Embedding layer\n",
    "vectorizer = TextVectorization(max_tokens=MAX_WORDS, output_mode='int', ngrams=1,\n",
    "              output_sequence_length=MAX_SEQUENCE_LENGTH)\n",
    "\n",
    "# Adapt the vectorizer to the text data\n",
    "vectorizer.adapt([\" \".join(x) for x in X_train_tokenized])\n",
    "\n",
    "# Use the vectorizer to transform the 15th document in X_train_tokenized into integer representations\n",
    "# Then print each word in the document along with its corresponding integer representation\n",
    "for widx, word in zip(vectorizer(' '.join(X_train_tokenized[14])).numpy().tolist(),X_train_tokenized[14]):\n",
    "    print((widx,word))"
   ],
   "metadata": {
    "collapsed": false,
    "ExecuteTime": {
     "end_time": "2024-09-23T12:14:32.927595Z",
     "start_time": "2024-09-23T12:14:32.870291Z"
    }
   }
  },
  {
   "cell_type": "code",
   "execution_count": 105,
   "outputs": [],
   "source": [
    "# Initialize an embedding matrix with zeros\n",
    "# The number of rows is equal to the maximum number of words in the vocabulary (MAX_WORDS)\n",
    "# The number of columns is equal to the dimension of the word vectors (100 in this case)\n",
    "embedding_matrix = np.zeros(shape=(MAX_WORDS, 100))\n",
    "\n",
    "# Enumerate over the vocabulary obtained from the vectorizer\n",
    "# w2idx is the index of the word in the vocabulary\n",
    "# _word is the actual word string\n",
    "for w2idx, _word in enumerate(vectorizer.get_vocabulary()):\n",
    "    # Skip the first two tokens ('PAD' and 'UNK') as they do not have corresponding word vectors\n",
    "    if w2idx < 2:\n",
    "      continue\n",
    "    try:\n",
    "      # Try to get the word vector for the current word from the word2vec model (wv)\n",
    "      # Assign this word vector to the corresponding row in the embedding matrix\n",
    "      embedding_matrix[w2idx] = wv[_word]\n",
    "    except KeyError:\n",
    "      # If the word is not found in the word2vec model, catch the KeyError and continue to the next word\n",
    "      continue"
   ],
   "metadata": {
    "collapsed": false,
    "ExecuteTime": {
     "end_time": "2024-09-23T12:24:33.304718Z",
     "start_time": "2024-09-23T12:24:33.265759Z"
    }
   }
  },
  {
   "cell_type": "markdown",
   "source": [
    "### BiGRU and deep self-attention"
   ],
   "metadata": {
    "collapsed": false
   }
  },
  {
   "cell_type": "code",
   "execution_count": 106,
   "outputs": [],
   "source": [
    "class SelfAttention(Layer):\n",
    "  def __init__(self, mlp_layers=0, units=0, dropout_rate=0, return_attention=False, **kwargs):\n",
    "    # Initialize the parent class\n",
    "    super(SelfAttention, self).__init__(**kwargs)\n",
    "\n",
    "    # Store the parameters\n",
    "    self.mlp_layers = mlp_layers\n",
    "    self.mlp_units = units\n",
    "    self.return_attention = return_attention\n",
    "    self.dropout_rate = dropout_rate\n",
    "\n",
    "    # Build the MLP (Multi-Layer Perceptron) that will be used to compute the attention scores\n",
    "    self.attention_mlp = self.build_mlp()\n",
    "\n",
    "  def build_mlp(self):\n",
    "    # Initialize the MLP\n",
    "    mlp = Sequential()\n",
    "\n",
    "    # Add the hidden layers\n",
    "    for i in range(self.mlp_layers):\n",
    "      mlp.add(Dense(self.mlp_units, activation='relu'))\n",
    "      mlp.add(Dropout(self.dropout_rate))\n",
    "\n",
    "    # Add the output layer\n",
    "    mlp.add(Dense(1))\n",
    "\n",
    "    return mlp\n",
    "\n",
    "  def call(self, x, mask=None):\n",
    "    # Compute the attention scores\n",
    "    a = self.attention_mlp(x)\n",
    "    a = tf.squeeze(a, axis=2)\n",
    "\n",
    "    # Apply the mask if provided\n",
    "    if mask is not None:\n",
    "      mask = tf.keras.backend.cast(mask, tf.keras.backend.floatx())\n",
    "      a -= 100000.0 * (1.0 - mask)\n",
    "\n",
    "    # Compute the softmax of the attention scores\n",
    "    a = tf.keras.backend.expand_dims(tf.keras.backend.softmax(a, axis=-1))\n",
    "\n",
    "    # Compute the weighted sum of the inputs according to the attention scores\n",
    "    weighted_input = x * a\n",
    "    result = tf.keras.backend.sum(weighted_input, axis=1)\n",
    "\n",
    "    # Return the result and the attention scores if required\n",
    "    if self.return_attention:\n",
    "      return [result, a]\n",
    "    return result"
   ],
   "metadata": {
    "collapsed": false,
    "ExecuteTime": {
     "end_time": "2024-09-23T12:24:34.595689Z",
     "start_time": "2024-09-23T12:24:34.589574Z"
    }
   }
  },
  {
   "cell_type": "code",
   "execution_count": 107,
   "outputs": [],
   "source": [
    "# Define the size of the GRU layer\n",
    "GRU_SIZE = 300\n",
    "\n",
    "# Define the size of the dense layer\n",
    "DENSE = 1000"
   ],
   "metadata": {
    "collapsed": false,
    "ExecuteTime": {
     "end_time": "2024-09-23T12:24:35.685006Z",
     "start_time": "2024-09-23T12:24:35.656763Z"
    }
   }
  },
  {
   "cell_type": "code",
   "execution_count": 110,
   "outputs": [
    {
     "name": "stderr",
     "output_type": "stream",
     "text": [
      "/Users/antonal/ta2/lib/python3.11/site-packages/keras/src/layers/core/embedding.py:90: UserWarning: Argument `input_length` is deprecated. Just remove it.\n",
      "  warnings.warn(\n",
      "/Users/antonal/ta2/lib/python3.11/site-packages/keras/src/layers/layer.py:934: UserWarning: Layer 'self_attention_10' (of type SelfAttention) was passed an input with a mask attached to it. However, this layer does not support masking and will therefore destroy the mask information. Downstream layers will not see the mask.\n",
      "  warnings.warn(\n"
     ]
    },
    {
     "data": {
      "text/plain": "\u001B[1mModel: \"sequential_23\"\u001B[0m\n",
      "text/html": "<pre style=\"white-space:pre;overflow-x:auto;line-height:normal;font-family:Menlo,'DejaVu Sans Mono',consolas,'Courier New',monospace\"><span style=\"font-weight: bold\">Model: \"sequential_23\"</span>\n</pre>\n"
     },
     "metadata": {},
     "output_type": "display_data"
    },
    {
     "data": {
      "text/plain": "┏━━━━━━━━━━━━━━━━━━━━━━━━━━━━━━━━━┳━━━━━━━━━━━━━━━━━━━━━━━━┳━━━━━━━━━━━━━━━┓\n┃\u001B[1m \u001B[0m\u001B[1mLayer (type)                   \u001B[0m\u001B[1m \u001B[0m┃\u001B[1m \u001B[0m\u001B[1mOutput Shape          \u001B[0m\u001B[1m \u001B[0m┃\u001B[1m \u001B[0m\u001B[1m      Param #\u001B[0m\u001B[1m \u001B[0m┃\n┡━━━━━━━━━━━━━━━━━━━━━━━━━━━━━━━━━╇━━━━━━━━━━━━━━━━━━━━━━━━╇━━━━━━━━━━━━━━━┩\n│ text_vectorization_4            │ (\u001B[38;5;45mNone\u001B[0m, \u001B[38;5;34m256\u001B[0m)            │             \u001B[38;5;34m0\u001B[0m │\n│ (\u001B[38;5;33mTextVectorization\u001B[0m)             │                        │               │\n├─────────────────────────────────┼────────────────────────┼───────────────┤\n│ embedding_11 (\u001B[38;5;33mEmbedding\u001B[0m)        │ (\u001B[38;5;45mNone\u001B[0m, \u001B[38;5;34m256\u001B[0m, \u001B[38;5;34m100\u001B[0m)       │        \u001B[38;5;34m51,200\u001B[0m │\n├─────────────────────────────────┼────────────────────────┼───────────────┤\n│ dropout_47 (\u001B[38;5;33mDropout\u001B[0m)            │ (\u001B[38;5;45mNone\u001B[0m, \u001B[38;5;34m256\u001B[0m, \u001B[38;5;34m100\u001B[0m)       │             \u001B[38;5;34m0\u001B[0m │\n├─────────────────────────────────┼────────────────────────┼───────────────┤\n│ bidirectional_10                │ (\u001B[38;5;45mNone\u001B[0m, \u001B[38;5;34m256\u001B[0m, \u001B[38;5;34m600\u001B[0m)       │       \u001B[38;5;34m723,600\u001B[0m │\n│ (\u001B[38;5;33mBidirectional\u001B[0m)                 │                        │               │\n├─────────────────────────────────┼────────────────────────┼───────────────┤\n│ self_attention_10               │ (\u001B[38;5;45mNone\u001B[0m, \u001B[38;5;34m600\u001B[0m)            │       \u001B[38;5;34m721,801\u001B[0m │\n│ (\u001B[38;5;33mSelfAttention\u001B[0m)                 │                        │               │\n├─────────────────────────────────┼────────────────────────┼───────────────┤\n│ dense_61 (\u001B[38;5;33mDense\u001B[0m)                │ (\u001B[38;5;45mNone\u001B[0m, \u001B[38;5;34m1000\u001B[0m)           │       \u001B[38;5;34m601,000\u001B[0m │\n├─────────────────────────────────┼────────────────────────┼───────────────┤\n│ dropout_50 (\u001B[38;5;33mDropout\u001B[0m)            │ (\u001B[38;5;45mNone\u001B[0m, \u001B[38;5;34m1000\u001B[0m)           │             \u001B[38;5;34m0\u001B[0m │\n├─────────────────────────────────┼────────────────────────┼───────────────┤\n│ dense_62 (\u001B[38;5;33mDense\u001B[0m)                │ (\u001B[38;5;45mNone\u001B[0m, \u001B[38;5;34m2\u001B[0m)              │         \u001B[38;5;34m2,002\u001B[0m │\n└─────────────────────────────────┴────────────────────────┴───────────────┘\n",
      "text/html": "<pre style=\"white-space:pre;overflow-x:auto;line-height:normal;font-family:Menlo,'DejaVu Sans Mono',consolas,'Courier New',monospace\">┏━━━━━━━━━━━━━━━━━━━━━━━━━━━━━━━━━┳━━━━━━━━━━━━━━━━━━━━━━━━┳━━━━━━━━━━━━━━━┓\n┃<span style=\"font-weight: bold\"> Layer (type)                    </span>┃<span style=\"font-weight: bold\"> Output Shape           </span>┃<span style=\"font-weight: bold\">       Param # </span>┃\n┡━━━━━━━━━━━━━━━━━━━━━━━━━━━━━━━━━╇━━━━━━━━━━━━━━━━━━━━━━━━╇━━━━━━━━━━━━━━━┩\n│ text_vectorization_4            │ (<span style=\"color: #00d7ff; text-decoration-color: #00d7ff\">None</span>, <span style=\"color: #00af00; text-decoration-color: #00af00\">256</span>)            │             <span style=\"color: #00af00; text-decoration-color: #00af00\">0</span> │\n│ (<span style=\"color: #0087ff; text-decoration-color: #0087ff\">TextVectorization</span>)             │                        │               │\n├─────────────────────────────────┼────────────────────────┼───────────────┤\n│ embedding_11 (<span style=\"color: #0087ff; text-decoration-color: #0087ff\">Embedding</span>)        │ (<span style=\"color: #00d7ff; text-decoration-color: #00d7ff\">None</span>, <span style=\"color: #00af00; text-decoration-color: #00af00\">256</span>, <span style=\"color: #00af00; text-decoration-color: #00af00\">100</span>)       │        <span style=\"color: #00af00; text-decoration-color: #00af00\">51,200</span> │\n├─────────────────────────────────┼────────────────────────┼───────────────┤\n│ dropout_47 (<span style=\"color: #0087ff; text-decoration-color: #0087ff\">Dropout</span>)            │ (<span style=\"color: #00d7ff; text-decoration-color: #00d7ff\">None</span>, <span style=\"color: #00af00; text-decoration-color: #00af00\">256</span>, <span style=\"color: #00af00; text-decoration-color: #00af00\">100</span>)       │             <span style=\"color: #00af00; text-decoration-color: #00af00\">0</span> │\n├─────────────────────────────────┼────────────────────────┼───────────────┤\n│ bidirectional_10                │ (<span style=\"color: #00d7ff; text-decoration-color: #00d7ff\">None</span>, <span style=\"color: #00af00; text-decoration-color: #00af00\">256</span>, <span style=\"color: #00af00; text-decoration-color: #00af00\">600</span>)       │       <span style=\"color: #00af00; text-decoration-color: #00af00\">723,600</span> │\n│ (<span style=\"color: #0087ff; text-decoration-color: #0087ff\">Bidirectional</span>)                 │                        │               │\n├─────────────────────────────────┼────────────────────────┼───────────────┤\n│ self_attention_10               │ (<span style=\"color: #00d7ff; text-decoration-color: #00d7ff\">None</span>, <span style=\"color: #00af00; text-decoration-color: #00af00\">600</span>)            │       <span style=\"color: #00af00; text-decoration-color: #00af00\">721,801</span> │\n│ (<span style=\"color: #0087ff; text-decoration-color: #0087ff\">SelfAttention</span>)                 │                        │               │\n├─────────────────────────────────┼────────────────────────┼───────────────┤\n│ dense_61 (<span style=\"color: #0087ff; text-decoration-color: #0087ff\">Dense</span>)                │ (<span style=\"color: #00d7ff; text-decoration-color: #00d7ff\">None</span>, <span style=\"color: #00af00; text-decoration-color: #00af00\">1000</span>)           │       <span style=\"color: #00af00; text-decoration-color: #00af00\">601,000</span> │\n├─────────────────────────────────┼────────────────────────┼───────────────┤\n│ dropout_50 (<span style=\"color: #0087ff; text-decoration-color: #0087ff\">Dropout</span>)            │ (<span style=\"color: #00d7ff; text-decoration-color: #00d7ff\">None</span>, <span style=\"color: #00af00; text-decoration-color: #00af00\">1000</span>)           │             <span style=\"color: #00af00; text-decoration-color: #00af00\">0</span> │\n├─────────────────────────────────┼────────────────────────┼───────────────┤\n│ dense_62 (<span style=\"color: #0087ff; text-decoration-color: #0087ff\">Dense</span>)                │ (<span style=\"color: #00d7ff; text-decoration-color: #00d7ff\">None</span>, <span style=\"color: #00af00; text-decoration-color: #00af00\">2</span>)              │         <span style=\"color: #00af00; text-decoration-color: #00af00\">2,002</span> │\n└─────────────────────────────────┴────────────────────────┴───────────────┘\n</pre>\n"
     },
     "metadata": {},
     "output_type": "display_data"
    },
    {
     "data": {
      "text/plain": "\u001B[1m Total params: \u001B[0m\u001B[38;5;34m2,099,603\u001B[0m (8.01 MB)\n",
      "text/html": "<pre style=\"white-space:pre;overflow-x:auto;line-height:normal;font-family:Menlo,'DejaVu Sans Mono',consolas,'Courier New',monospace\"><span style=\"font-weight: bold\"> Total params: </span><span style=\"color: #00af00; text-decoration-color: #00af00\">2,099,603</span> (8.01 MB)\n</pre>\n"
     },
     "metadata": {},
     "output_type": "display_data"
    },
    {
     "data": {
      "text/plain": "\u001B[1m Trainable params: \u001B[0m\u001B[38;5;34m2,048,403\u001B[0m (7.81 MB)\n",
      "text/html": "<pre style=\"white-space:pre;overflow-x:auto;line-height:normal;font-family:Menlo,'DejaVu Sans Mono',consolas,'Courier New',monospace\"><span style=\"font-weight: bold\"> Trainable params: </span><span style=\"color: #00af00; text-decoration-color: #00af00\">2,048,403</span> (7.81 MB)\n</pre>\n"
     },
     "metadata": {},
     "output_type": "display_data"
    },
    {
     "data": {
      "text/plain": "\u001B[1m Non-trainable params: \u001B[0m\u001B[38;5;34m51,200\u001B[0m (200.00 KB)\n",
      "text/html": "<pre style=\"white-space:pre;overflow-x:auto;line-height:normal;font-family:Menlo,'DejaVu Sans Mono',consolas,'Courier New',monospace\"><span style=\"font-weight: bold\"> Non-trainable params: </span><span style=\"color: #00af00; text-decoration-color: #00af00\">51,200</span> (200.00 KB)\n</pre>\n"
     },
     "metadata": {},
     "output_type": "display_data"
    },
    {
     "name": "stdout",
     "output_type": "stream",
     "text": [
      "None\n",
      "Epoch 1/20\n"
     ]
    },
    {
     "name": "stderr",
     "output_type": "stream",
     "text": [
      "/Users/antonal/ta2/lib/python3.11/site-packages/keras/src/layers/layer.py:934: UserWarning: Layer 'sequential_24' (of type Sequential) was passed an input with a mask attached to it. However, this layer does not support masking and will therefore destroy the mask information. Downstream layers will not see the mask.\n",
      "  warnings.warn(\n"
     ]
    },
    {
     "name": "stdout",
     "output_type": "stream",
     "text": [
      "\u001B[1m32/32\u001B[0m \u001B[32m━━━━━━━━━━━━━━━━━━━━\u001B[0m\u001B[37m\u001B[0m \u001B[1m9s\u001B[0m 272ms/step\n",
      " — val_f1: 0.711949 — val_precision: 0.721342 — val_recall: 0.713000\n",
      "\u001B[1m28/28\u001B[0m \u001B[32m━━━━━━━━━━━━━━━━━━━━\u001B[0m\u001B[37m\u001B[0m \u001B[1m100s\u001B[0m 3s/step - categorical_accuracy: 0.6408 - loss: 0.6298 - val_categorical_accuracy: 0.7130 - val_loss: 0.5461 - val_f1: 0.7119 - val_recall: 0.7130 - val_precision: 0.7213\n",
      "Epoch 2/20\n",
      "\u001B[1m32/32\u001B[0m \u001B[32m━━━━━━━━━━━━━━━━━━━━\u001B[0m\u001B[37m\u001B[0m \u001B[1m20s\u001B[0m 627ms/step\n",
      " — val_f1: 0.706201 — val_precision: 0.724831 — val_recall: 0.709000\n",
      "\u001B[1m28/28\u001B[0m \u001B[32m━━━━━━━━━━━━━━━━━━━━\u001B[0m\u001B[37m\u001B[0m \u001B[1m144s\u001B[0m 5s/step - categorical_accuracy: 0.7245 - loss: 0.5461 - val_categorical_accuracy: 0.7090 - val_loss: 0.5606 - val_f1: 0.7062 - val_recall: 0.7090 - val_precision: 0.7248\n",
      "Epoch 3/20\n",
      "\u001B[1m32/32\u001B[0m \u001B[32m━━━━━━━━━━━━━━━━━━━━\u001B[0m\u001B[37m\u001B[0m \u001B[1m10s\u001B[0m 318ms/step\n",
      " — val_f1: 0.736651 — val_precision: 0.736954 — val_recall: 0.737000\n",
      "\u001B[1m28/28\u001B[0m \u001B[32m━━━━━━━━━━━━━━━━━━━━\u001B[0m\u001B[37m\u001B[0m \u001B[1m189s\u001B[0m 7s/step - categorical_accuracy: 0.7299 - loss: 0.5328 - val_categorical_accuracy: 0.7370 - val_loss: 0.5390 - val_f1: 0.7367 - val_recall: 0.7370 - val_precision: 0.7370\n",
      "Epoch 4/20\n",
      "\u001B[1m32/32\u001B[0m \u001B[32m━━━━━━━━━━━━━━━━━━━━\u001B[0m\u001B[37m\u001B[0m \u001B[1m13s\u001B[0m 404ms/step\n",
      " — val_f1: 0.736736 — val_precision: 0.741630 — val_recall: 0.737000\n",
      "\u001B[1m28/28\u001B[0m \u001B[32m━━━━━━━━━━━━━━━━━━━━\u001B[0m\u001B[37m\u001B[0m \u001B[1m177s\u001B[0m 6s/step - categorical_accuracy: 0.7243 - loss: 0.5311 - val_categorical_accuracy: 0.7370 - val_loss: 0.5334 - val_f1: 0.7367 - val_recall: 0.7370 - val_precision: 0.7416\n",
      "Epoch 5/20\n",
      "\u001B[1m32/32\u001B[0m \u001B[32m━━━━━━━━━━━━━━━━━━━━\u001B[0m\u001B[37m\u001B[0m \u001B[1m13s\u001B[0m 414ms/step\n",
      " — val_f1: 0.732105 — val_precision: 0.733358 — val_recall: 0.732000\n",
      "\u001B[1m28/28\u001B[0m \u001B[32m━━━━━━━━━━━━━━━━━━━━\u001B[0m\u001B[37m\u001B[0m \u001B[1m195s\u001B[0m 7s/step - categorical_accuracy: 0.7369 - loss: 0.5210 - val_categorical_accuracy: 0.7320 - val_loss: 0.5349 - val_f1: 0.7321 - val_recall: 0.7320 - val_precision: 0.7334\n",
      "Epoch 6/20\n",
      "\u001B[1m32/32\u001B[0m \u001B[32m━━━━━━━━━━━━━━━━━━━━\u001B[0m\u001B[37m\u001B[0m \u001B[1m12s\u001B[0m 367ms/step\n",
      " — val_f1: 0.743977 — val_precision: 0.746842 — val_recall: 0.744000\n",
      "\u001B[1m28/28\u001B[0m \u001B[32m━━━━━━━━━━━━━━━━━━━━\u001B[0m\u001B[37m\u001B[0m \u001B[1m209s\u001B[0m 7s/step - categorical_accuracy: 0.7427 - loss: 0.5159 - val_categorical_accuracy: 0.7440 - val_loss: 0.5329 - val_f1: 0.7440 - val_recall: 0.7440 - val_precision: 0.7468\n",
      "Epoch 7/20\n",
      "\u001B[1m32/32\u001B[0m \u001B[32m━━━━━━━━━━━━━━━━━━━━\u001B[0m\u001B[37m\u001B[0m \u001B[1m12s\u001B[0m 367ms/step\n",
      " — val_f1: 0.739048 — val_precision: 0.741122 — val_recall: 0.739000\n",
      "\u001B[1m28/28\u001B[0m \u001B[32m━━━━━━━━━━━━━━━━━━━━\u001B[0m\u001B[37m\u001B[0m \u001B[1m178s\u001B[0m 6s/step - categorical_accuracy: 0.7455 - loss: 0.5046 - val_categorical_accuracy: 0.7390 - val_loss: 0.5341 - val_f1: 0.7390 - val_recall: 0.7390 - val_precision: 0.7411\n",
      "Epoch 8/20\n",
      "\u001B[1m32/32\u001B[0m \u001B[32m━━━━━━━━━━━━━━━━━━━━\u001B[0m\u001B[37m\u001B[0m \u001B[1m9s\u001B[0m 292ms/step\n",
      " — val_f1: 0.748109 — val_precision: 0.749079 — val_recall: 0.748000\n",
      "\u001B[1m28/28\u001B[0m \u001B[32m━━━━━━━━━━━━━━━━━━━━\u001B[0m\u001B[37m\u001B[0m \u001B[1m188s\u001B[0m 7s/step - categorical_accuracy: 0.7474 - loss: 0.5084 - val_categorical_accuracy: 0.7480 - val_loss: 0.5301 - val_f1: 0.7481 - val_recall: 0.7480 - val_precision: 0.7491\n",
      "Epoch 9/20\n",
      "\u001B[1m32/32\u001B[0m \u001B[32m━━━━━━━━━━━━━━━━━━━━\u001B[0m\u001B[37m\u001B[0m \u001B[1m10s\u001B[0m 298ms/step\n",
      " — val_f1: 0.736716 — val_precision: 0.748709 — val_recall: 0.738000\n",
      "\u001B[1m28/28\u001B[0m \u001B[32m━━━━━━━━━━━━━━━━━━━━\u001B[0m\u001B[37m\u001B[0m \u001B[1m139s\u001B[0m 5s/step - categorical_accuracy: 0.7651 - loss: 0.4742 - val_categorical_accuracy: 0.7380 - val_loss: 0.5396 - val_f1: 0.7367 - val_recall: 0.7380 - val_precision: 0.7487\n",
      "Epoch 10/20\n",
      "\u001B[1m32/32\u001B[0m \u001B[32m━━━━━━━━━━━━━━━━━━━━\u001B[0m\u001B[37m\u001B[0m \u001B[1m10s\u001B[0m 303ms/step\n",
      " — val_f1: 0.740114 — val_precision: 0.740945 — val_recall: 0.740000\n",
      "\u001B[1m28/28\u001B[0m \u001B[32m━━━━━━━━━━━━━━━━━━━━\u001B[0m\u001B[37m\u001B[0m \u001B[1m139s\u001B[0m 5s/step - categorical_accuracy: 0.7524 - loss: 0.4914 - val_categorical_accuracy: 0.7400 - val_loss: 0.5333 - val_f1: 0.7401 - val_recall: 0.7400 - val_precision: 0.7409\n",
      "Epoch 11/20\n",
      "\u001B[1m32/32\u001B[0m \u001B[32m━━━━━━━━━━━━━━━━━━━━\u001B[0m\u001B[37m\u001B[0m \u001B[1m13s\u001B[0m 391ms/step\n",
      " — val_f1: 0.738084 — val_precision: 0.739680 — val_recall: 0.738000\n",
      "\u001B[1m28/28\u001B[0m \u001B[32m━━━━━━━━━━━━━━━━━━━━\u001B[0m\u001B[37m\u001B[0m \u001B[1m181s\u001B[0m 7s/step - categorical_accuracy: 0.7679 - loss: 0.4747 - val_categorical_accuracy: 0.7380 - val_loss: 0.5451 - val_f1: 0.7381 - val_recall: 0.7380 - val_precision: 0.7397\n",
      "Epoch 12/20\n",
      "\u001B[1m32/32\u001B[0m \u001B[32m━━━━━━━━━━━━━━━━━━━━\u001B[0m\u001B[37m\u001B[0m \u001B[1m12s\u001B[0m 375ms/step\n",
      " — val_f1: 0.734773 — val_precision: 0.739345 — val_recall: 0.735000\n",
      "\u001B[1m28/28\u001B[0m \u001B[32m━━━━━━━━━━━━━━━━━━━━\u001B[0m\u001B[37m\u001B[0m \u001B[1m159s\u001B[0m 6s/step - categorical_accuracy: 0.7687 - loss: 0.4711 - val_categorical_accuracy: 0.7350 - val_loss: 0.5469 - val_f1: 0.7348 - val_recall: 0.7350 - val_precision: 0.7393\n",
      "Epoch 13/20\n",
      "\u001B[1m32/32\u001B[0m \u001B[32m━━━━━━━━━━━━━━━━━━━━\u001B[0m\u001B[37m\u001B[0m \u001B[1m12s\u001B[0m 372ms/step\n",
      " — val_f1: 0.740071 — val_precision: 0.740236 — val_recall: 0.740000\n",
      "\u001B[1m28/28\u001B[0m \u001B[32m━━━━━━━━━━━━━━━━━━━━\u001B[0m\u001B[37m\u001B[0m \u001B[1m180s\u001B[0m 6s/step - categorical_accuracy: 0.7653 - loss: 0.4658 - val_categorical_accuracy: 0.7400 - val_loss: 0.5366 - val_f1: 0.7401 - val_recall: 0.7400 - val_precision: 0.7402\n",
      "Epoch 14/20\n",
      "\u001B[1m32/32\u001B[0m \u001B[32m━━━━━━━━━━━━━━━━━━━━\u001B[0m\u001B[37m\u001B[0m \u001B[1m11s\u001B[0m 340ms/step\n",
      " — val_f1: 0.740000 — val_precision: 0.742615 — val_recall: 0.740000\n",
      "\u001B[1m28/28\u001B[0m \u001B[32m━━━━━━━━━━━━━━━━━━━━\u001B[0m\u001B[37m\u001B[0m \u001B[1m230s\u001B[0m 8s/step - categorical_accuracy: 0.7708 - loss: 0.4569 - val_categorical_accuracy: 0.7400 - val_loss: 0.5338 - val_f1: 0.7400 - val_recall: 0.7400 - val_precision: 0.7426\n",
      "Epoch 15/20\n",
      "\u001B[1m32/32\u001B[0m \u001B[32m━━━━━━━━━━━━━━━━━━━━\u001B[0m\u001B[37m\u001B[0m \u001B[1m14s\u001B[0m 425ms/step\n",
      " — val_f1: 0.730083 — val_precision: 0.739370 — val_recall: 0.731000\n",
      "\u001B[1m28/28\u001B[0m \u001B[32m━━━━━━━━━━━━━━━━━━━━\u001B[0m\u001B[37m\u001B[0m \u001B[1m198s\u001B[0m 7s/step - categorical_accuracy: 0.7864 - loss: 0.4446 - val_categorical_accuracy: 0.7310 - val_loss: 0.5563 - val_f1: 0.7301 - val_recall: 0.7310 - val_precision: 0.7394\n",
      "Epoch 16/20\n",
      "\u001B[1m32/32\u001B[0m \u001B[32m━━━━━━━━━━━━━━━━━━━━\u001B[0m\u001B[37m\u001B[0m \u001B[1m9s\u001B[0m 285ms/step\n",
      " — val_f1: 0.724963 — val_precision: 0.724939 — val_recall: 0.725000\n",
      "\u001B[1m28/28\u001B[0m \u001B[32m━━━━━━━━━━━━━━━━━━━━\u001B[0m\u001B[37m\u001B[0m \u001B[1m134s\u001B[0m 5s/step - categorical_accuracy: 0.7926 - loss: 0.4381 - val_categorical_accuracy: 0.7250 - val_loss: 0.5654 - val_f1: 0.7250 - val_recall: 0.7250 - val_precision: 0.7249\n",
      "Epoch 17/20\n",
      "\u001B[1m32/32\u001B[0m \u001B[32m━━━━━━━━━━━━━━━━━━━━\u001B[0m\u001B[37m\u001B[0m \u001B[1m12s\u001B[0m 382ms/step\n",
      " — val_f1: 0.723976 — val_precision: 0.726761 — val_recall: 0.724000\n",
      "\u001B[1m28/28\u001B[0m \u001B[32m━━━━━━━━━━━━━━━━━━━━\u001B[0m\u001B[37m\u001B[0m \u001B[1m141s\u001B[0m 5s/step - categorical_accuracy: 0.7900 - loss: 0.4333 - val_categorical_accuracy: 0.7240 - val_loss: 0.5544 - val_f1: 0.7240 - val_recall: 0.7240 - val_precision: 0.7268\n",
      "Epoch 18/20\n",
      "\u001B[1m32/32\u001B[0m \u001B[32m━━━━━━━━━━━━━━━━━━━━\u001B[0m\u001B[37m\u001B[0m \u001B[1m9s\u001B[0m 291ms/step\n",
      " — val_f1: 0.728728 — val_precision: 0.733558 — val_recall: 0.729000\n",
      "\u001B[1m28/28\u001B[0m \u001B[32m━━━━━━━━━━━━━━━━━━━━\u001B[0m\u001B[37m\u001B[0m \u001B[1m150s\u001B[0m 5s/step - categorical_accuracy: 0.7967 - loss: 0.4213 - val_categorical_accuracy: 0.7290 - val_loss: 0.5643 - val_f1: 0.7287 - val_recall: 0.7290 - val_precision: 0.7336\n",
      "Epoch 19/20\n",
      "\u001B[1m32/32\u001B[0m \u001B[32m━━━━━━━━━━━━━━━━━━━━\u001B[0m\u001B[37m\u001B[0m \u001B[1m10s\u001B[0m 310ms/step\n",
      " — val_f1: 0.719819 — val_precision: 0.723853 — val_recall: 0.720000\n",
      "\u001B[1m28/28\u001B[0m \u001B[32m━━━━━━━━━━━━━━━━━━━━\u001B[0m\u001B[37m\u001B[0m \u001B[1m138s\u001B[0m 5s/step - categorical_accuracy: 0.8061 - loss: 0.4028 - val_categorical_accuracy: 0.7200 - val_loss: 0.5606 - val_f1: 0.7198 - val_recall: 0.7200 - val_precision: 0.7239\n",
      "Epoch 20/20\n",
      "\u001B[1m32/32\u001B[0m \u001B[32m━━━━━━━━━━━━━━━━━━━━\u001B[0m\u001B[37m\u001B[0m \u001B[1m14s\u001B[0m 442ms/step\n",
      " — val_f1: 0.720110 — val_precision: 0.720502 — val_recall: 0.720000\n",
      "\u001B[1m28/28\u001B[0m \u001B[32m━━━━━━━━━━━━━━━━━━━━\u001B[0m\u001B[37m\u001B[0m \u001B[1m148s\u001B[0m 5s/step - categorical_accuracy: 0.8088 - loss: 0.4020 - val_categorical_accuracy: 0.7200 - val_loss: 0.5929 - val_f1: 0.7201 - val_recall: 0.7200 - val_precision: 0.7205\n"
     ]
    }
   ],
   "source": [
    "# Create an empty sequential model\n",
    "model3 = Sequential()\n",
    "\n",
    "# Add an input layer that accepts a string\n",
    "model3.add(Input(shape=(1,), dtype=tf.string))\n",
    "\n",
    "# Add a vectorizer layer to convert the string into integer tokens\n",
    "model3.add(vectorizer)\n",
    "\n",
    "# Add an embedding layer to convert the integer tokens into dense vectors\n",
    "# The weights of the embedding layer are initialized with a pre-trained embedding (GloVe)\n",
    "model3.add(Embedding(MAX_WORDS, EMBEDDING_DIM, weights=[embedding_matrix],\n",
    "                    input_length=MAX_SEQUENCE_LENGTH, mask_zero=True, trainable=False))\n",
    "\n",
    "# Add a dropout layer to prevent overfitting\n",
    "model3.add(Dropout(0.33))\n",
    "\n",
    "# Add a bidirectional GRU layer\n",
    "model3.add(Bidirectional(GRU(GRU_SIZE, return_sequences=True)))\n",
    "\n",
    "# Add a self-attention layer\n",
    "model3.add(SelfAttention(mlp_layers=2, units=GRU_SIZE*2, dropout_rate=0.33 ))\n",
    "\n",
    "# Add a dense layer with ReLU activation\n",
    "model3.add(Dense(units=DENSE, activation='relu' ))\n",
    "\n",
    "# Add another dropout layer\n",
    "model3.add(Dropout(0.33))\n",
    "\n",
    "# Add the output layer with softmax activation\n",
    "model3.add(Dense(len(y_train_new.unique()), activation='softmax'))\n",
    "\n",
    "# Print the summary of the model\n",
    "print(model3.summary())\n",
    "\n",
    "# Compile the model with categorical crossentropy loss, Adam optimizer and categorical accuracy metric\n",
    "model3.compile(loss='categorical_crossentropy',\n",
    "                  optimizer=Adam(learning_rate=0.001),metrics=[\"categorical_accuracy\"])\n",
    "\n",
    "# Convert the training data into the required format\n",
    "train_data = np.array([[\" \".join(x_train)] for x_train in X_train_tokenized])\n",
    "# Convert the validation data into the required format\n",
    "val_data = np.array([[\" \".join(x_val)] for x_val in X_val_tokenized])\n",
    "\n",
    "# Train the model\n",
    "history3 = model3.fit(train_data.astype(object), y_train_1_hot,\n",
    "              validation_data=(val_data.astype(object), y_val_1_hot),\n",
    "              batch_size=256,\n",
    "              epochs=20,\n",
    "              shuffle=True,\n",
    "              callbacks=[Metrics(valid_data=(val_data.astype(object), y_val_1_hot))])"
   ],
   "metadata": {
    "collapsed": false,
    "ExecuteTime": {
     "end_time": "2024-09-23T13:25:43.581117Z",
     "start_time": "2024-09-23T12:30:25.470713Z"
    }
   }
  },
  {
   "cell_type": "code",
   "execution_count": 111,
   "outputs": [
    {
     "data": {
      "text/plain": "<Figure size 640x480 with 1 Axes>",
      "image/png": "[encoded data removed]"
     },
     "metadata": {},
     "output_type": "display_data"
    }
   ],
   "source": [
    "# summarize history for accuracy\n",
    "plt.plot(history3.history['categorical_accuracy'])\n",
    "plt.plot(history3.history['val_categorical_accuracy'])\n",
    "plt.title('model accuracy')\n",
    "plt.ylabel('accuracy')\n",
    "plt.xlabel('epoch')\n",
    "plt.legend(['train', 'dev'], loc='upper left')\n",
    "plt.xticks([x_tick for x_tick in range(0,len(history3.history['categorical_accuracy'])+2,2)])\n",
    "plt.show()"
   ],
   "metadata": {
    "collapsed": false,
    "ExecuteTime": {
     "end_time": "2024-09-23T13:26:57.431946Z",
     "start_time": "2024-09-23T13:26:57.295103Z"
    }
   }
  },
  {
   "cell_type": "code",
   "execution_count": 112,
   "outputs": [
    {
     "data": {
      "text/plain": "<Figure size 640x480 with 1 Axes>",
      "image/png": "[encoded data removed]"
     },
     "metadata": {},
     "output_type": "display_data"
    }
   ],
   "source": [
    "# summarize history for loss\n",
    "plt.plot(history3.history['loss'])\n",
    "plt.plot(history3.history['val_loss'])\n",
    "plt.title('model loss')\n",
    "plt.ylabel('loss')\n",
    "plt.xlabel('epoch')\n",
    "plt.legend(['train', 'dev'], loc='upper right')\n",
    "plt.xticks([x_tick for x_tick in range(0,len(history3.history['categorical_accuracy'])+2,2)])\n",
    "plt.show()"
   ],
   "metadata": {
    "collapsed": false,
    "ExecuteTime": {
     "end_time": "2024-09-23T13:27:04.309039Z",
     "start_time": "2024-09-23T13:27:04.203582Z"
    }
   }
  },
  {
   "cell_type": "code",
   "execution_count": 113,
   "outputs": [],
   "source": [
    "# Convert the test data into the required format\n",
    "test_data = np.array([[\" \".join(x_test)] for x_test in X_test_tokenized])"
   ],
   "metadata": {
    "collapsed": false,
    "ExecuteTime": {
     "end_time": "2024-09-23T13:27:12.033094Z",
     "start_time": "2024-09-23T13:27:12.019004Z"
    }
   }
  },
  {
   "cell_type": "code",
   "execution_count": 115,
   "outputs": [
    {
     "name": "stdout",
     "output_type": "stream",
     "text": [
      "\u001B[1m219/219\u001B[0m \u001B[32m━━━━━━━━━━━━━━━━━━━━\u001B[0m\u001B[37m\u001B[0m \u001B[1m50s\u001B[0m 229ms/step\n",
      "\u001B[1m32/32\u001B[0m \u001B[32m━━━━━━━━━━━━━━━━━━━━\u001B[0m\u001B[37m\u001B[0m \u001B[1m7s\u001B[0m 222ms/step\n",
      "\u001B[1m63/63\u001B[0m \u001B[32m━━━━━━━━━━━━━━━━━━━━\u001B[0m\u001B[37m\u001B[0m \u001B[1m13s\u001B[0m 209ms/step\n"
     ]
    }
   ],
   "source": [
    "# Use the trained RNN model to make predictions on the training data\n",
    "# The model's predict method returns a probability for each class\n",
    "# We use argmax to get the index of the highest probability, which gives us the predicted class\n",
    "predictions_train_rnn = np.argmax(model3.predict(train_data.astype(object)), -1)\n",
    "\n",
    "# Make predictions on the validation data\n",
    "predictions_val_rnn = np.argmax(model3.predict(val_data.astype(object)), -1)\n",
    "\n",
    "# Make predictions on the test data\n",
    "predictions_test_rnn = np.argmax(model3.predict(test_data.astype(object)), -1)"
   ],
   "metadata": {
    "collapsed": false,
    "ExecuteTime": {
     "end_time": "2024-09-23T13:30:04.485245Z",
     "start_time": "2024-09-23T13:28:53.818646Z"
    }
   }
  },
  {
   "cell_type": "code",
   "execution_count": 116,
   "outputs": [
    {
     "name": "stdout",
     "output_type": "stream",
     "text": [
      "Classification Report for TRAIN data set:\n",
      "              precision    recall  f1-score   support\n",
      "\n",
      "           0       0.86      0.85      0.86      3499\n",
      "           1       0.85      0.87      0.86      3501\n",
      "\n",
      "    accuracy                           0.86      7000\n",
      "   macro avg       0.86      0.86      0.86      7000\n",
      "weighted avg       0.86      0.86      0.86      7000\n",
      "\n"
     ]
    }
   ],
   "source": [
    "# Print the classification report for the training data\n",
    "# The classification report shows key classification metrics including precision, recall and f1-score\n",
    "print(\"Classification Report for TRAIN data set:\")\n",
    "print(classification_report(y_train_new, predictions_train_rnn))"
   ],
   "metadata": {
    "collapsed": false,
    "ExecuteTime": {
     "end_time": "2024-09-23T13:31:05.610139Z",
     "start_time": "2024-09-23T13:31:05.584552Z"
    }
   }
  },
  {
   "cell_type": "code",
   "execution_count": 117,
   "outputs": [
    {
     "name": "stdout",
     "output_type": "stream",
     "text": [
      "Classification Report for Validation data set:\n",
      "              precision    recall  f1-score   support\n",
      "\n",
      "           0       0.74      0.72      0.73       521\n",
      "           1       0.70      0.72      0.71       479\n",
      "\n",
      "    accuracy                           0.72      1000\n",
      "   macro avg       0.72      0.72      0.72      1000\n",
      "weighted avg       0.72      0.72      0.72      1000\n",
      "\n"
     ]
    }
   ],
   "source": [
    "# Print the classification report for the validation data\n",
    "print(\"Classification Report for Validation data set:\")\n",
    "print(classification_report(y_val, predictions_val_rnn))"
   ],
   "metadata": {
    "collapsed": false,
    "ExecuteTime": {
     "end_time": "2024-09-23T13:31:07.114483Z",
     "start_time": "2024-09-23T13:31:07.092703Z"
    }
   }
  },
  {
   "cell_type": "code",
   "execution_count": 118,
   "outputs": [
    {
     "name": "stdout",
     "output_type": "stream",
     "text": [
      "Classification Report for TEST data set:\n",
      "              precision    recall  f1-score   support\n",
      "\n",
      "           0       0.73      0.71      0.72       980\n",
      "           1       0.73      0.75      0.74      1020\n",
      "\n",
      "    accuracy                           0.73      2000\n",
      "   macro avg       0.73      0.73      0.73      2000\n",
      "weighted avg       0.73      0.73      0.73      2000\n",
      "\n"
     ]
    }
   ],
   "source": [
    "# Print the classification report for the test data\n",
    "print(\"Classification Report for TEST data set:\")\n",
    "print(classification_report(y_test, predictions_test_rnn))"
   ],
   "metadata": {
    "collapsed": false,
    "ExecuteTime": {
     "end_time": "2024-09-23T13:31:13.200402Z",
     "start_time": "2024-09-23T13:31:13.091749Z"
    }
   }
  },
  {
   "cell_type": "markdown",
   "source": [
    "#### Hyperparameter tuning for RNN GRU model"
   ],
   "metadata": {
    "collapsed": false
   }
  },
  {
   "cell_type": "code",
   "execution_count": 121,
   "outputs": [],
   "source": [
    "locale.getpreferredencoding = lambda: \"UTF-8\""
   ],
   "metadata": {
    "collapsed": false,
    "ExecuteTime": {
     "end_time": "2024-09-23T13:31:26.230213Z",
     "start_time": "2024-09-23T13:31:26.207234Z"
    }
   }
  },
  {
   "cell_type": "code",
   "source": [
    "def build_model(hp):\n",
    "    # Initialize a Sequential model\n",
    "    model = Sequential()\n",
    "\n",
    "    # Add an Input layer that accepts a string\n",
    "    model.add(Input(shape=(1,), dtype=tf.string))\n",
    "\n",
    "    # Add a vectorizer layer to convert the string into integer tokens\n",
    "    model.add(vectorizer)\n",
    "\n",
    "    # Add an Embedding layer to convert the integer tokens into dense vectors\n",
    "    # The weights of the Embedding layer are initialized with a pre-trained embedding (GloVe)\n",
    "    model.add(Embedding(MAX_WORDS, EMBEDDING_DIM, weights=[embedding_matrix],\n",
    "                      input_length=MAX_SEQUENCE_LENGTH, mask_zero=True, trainable=False))\n",
    "\n",
    "    # Add a Dropout layer to prevent overfitting\n",
    "    model.add(Dropout(hp.Choice('dropout_rate', values=[0.1,0.2,0.3,0.4,0.5])))\n",
    "\n",
    "    # Add a variable number of Bidirectional GRU layers\n",
    "    for i in range(hp.Int(name='num_rnn_layers',min_value=1,max_value=3)):\n",
    "        model.add(Bidirectional(GRU(hp.Int('gru_units', min_value=128, max_value=512, step=64), return_sequences=True)))\n",
    "\n",
    "    # Add a Self-Attention layer\n",
    "    model.add(SelfAttention(mlp_layers=hp.Int('attention_layers',1,3),\n",
    "                            units=hp.Int('attention_units',min_value=128,max_value=512,step=64),\n",
    "                            dropout_rate=hp.Choice('attention_dropout', values=[0.1,0.2,0.3,0.4,0.5]) ))\n",
    "\n",
    "    # Add a Dense layer with ReLU activation\n",
    "    model.add(Dense(units=hp.Int('dense_units', min_value=128, max_value=512, step=64), activation='relu' ))\n",
    "\n",
    "    # Add another Dropout layer\n",
    "    model.add(Dropout(hp.Choice('dropout_rate_dense', values=[0.1,0.2,0.3,0.4,0.5])))\n",
    "\n",
    "    # Add the output layer with softmax activation\n",
    "    model.add(Dense(len(y_train_new.unique()), activation='softmax'))\n",
    "\n",
    "    # Tune the learning rate for the optimizer\n",
    "    hp_learning_rate = hp.Choice('learning_rate', values=[1e-3, 1e-4])\n",
    "\n",
    "    # Compile the model with categorical crossentropy loss, Adam optimizer and categorical accuracy metric\n",
    "    model.compile(loss='categorical_crossentropy',optimizer=Adam(learning_rate=hp_learning_rate),\n",
    "                  metrics=[CategoricalAccuracy()])\n",
    "\n",
    "    # Return the constructed model\n",
    "    return model"
   ],
   "metadata": {
    "collapsed": false,
    "ExecuteTime": {
     "end_time": "2024-09-23T13:31:37.035112Z",
     "start_time": "2024-09-23T13:31:37.010907Z"
    }
   },
   "execution_count": 122,
   "outputs": []
  },
  {
   "cell_type": "code",
   "execution_count": null,
   "outputs": [],
   "source": [
    "# Remove the directory 'KT_dir' if it exists\n",
    "!rm -r KT_dir"
   ],
   "metadata": {
    "collapsed": false
   }
  },
  {
   "cell_type": "code",
   "execution_count": null,
   "outputs": [
    {
     "output_type": "stream",
     "name": "stdout",
     "text": [
      "Search space summary\n",
      "Default search space size: 9\n",
      "dropout_rate (Choice)\n",
      "{'default': 0.1, 'conditions': [], 'values': [0.1, 0.2, 0.3, 0.4, 0.5], 'ordered': True}\n",
      "num_rnn_layers (Int)\n",
      "{'default': None, 'conditions': [], 'min_value': 1, 'max_value': 3, 'step': 1, 'sampling': 'linear'}\n",
      "gru_units (Int)\n",
      "{'default': None, 'conditions': [], 'min_value': 128, 'max_value': 512, 'step': 64, 'sampling': 'linear'}\n",
      "attention_layers (Int)\n",
      "{'default': None, 'conditions': [], 'min_value': 1, 'max_value': 3, 'step': 1, 'sampling': 'linear'}\n",
      "attention_units (Int)\n",
      "{'default': None, 'conditions': [], 'min_value': 128, 'max_value': 512, 'step': 64, 'sampling': 'linear'}\n",
      "attention_dropout (Choice)\n",
      "{'default': 0.1, 'conditions': [], 'values': [0.1, 0.2, 0.3, 0.4, 0.5], 'ordered': True}\n",
      "dense_units (Int)\n",
      "{'default': None, 'conditions': [], 'min_value': 128, 'max_value': 512, 'step': 64, 'sampling': 'linear'}\n",
      "dropout_rate_dense (Choice)\n",
      "{'default': 0.1, 'conditions': [], 'values': [0.1, 0.2, 0.3, 0.4, 0.5], 'ordered': True}\n",
      "learning_rate (Choice)\n",
      "{'default': 0.001, 'conditions': [], 'values': [0.001, 0.0001], 'ordered': True}\n"
     ]
    }
   ],
   "source": [
    "# Initialize a RandomSearch tuner from Keras Tuner\n",
    "# The tuner will search for the best hyperparameters of the model defined in the 'build_model' function\n",
    "# The objective of the tuner is to maximize the validation categorical accuracy\n",
    "# The tuner will perform a maximum of 10 trials\n",
    "# The results of the tuner will be stored in the directory 'KT_dir' under the project name 'KT_tuning'\n",
    "tuner = kt.RandomSearch(build_model,\n",
    "                        objective=kt.Objective(\"val_categorical_accuracy\", direction=\"max\"),\n",
    "                        max_trials = 10,\n",
    "                        directory='KT_dir',\n",
    "                        project_name='KT_tuning')\n",
    "\n",
    "# Initialize an EarlyStopping callback\n",
    "# The callback will stop the training if the validation loss does not improve for 5 epochs\n",
    "early_stopping = EarlyStopping(monitor='val_loss', patience=5)\n",
    "\n",
    "# Print a summary of the search space\n",
    "tuner.search_space_summary()"
   ],
   "metadata": {
    "collapsed": false
   }
  },
  {
   "cell_type": "code",
   "execution_count": null,
   "outputs": [
    {
     "output_type": "stream",
     "name": "stdout",
     "text": [
      "Trial 10 Complete [00h 13m 30s]\n",
      "val_categorical_accuracy: 0.7429999709129333\n",
      "\n",
      "Best val_categorical_accuracy So Far: 0.7440000176429749\n",
      "Total elapsed time: 02h 23m 13s\n"
     ]
    }
   ],
   "source": [
    "# Start the hyperparameter search\n",
    "# The tuner will train the model on the training data and evaluate it on the validation data\n",
    "# The training will be done for a maximum of 20 epochs with a batch size of 128\n",
    "# The EarlyStopping callback is used during training\n",
    "tuner.search(train_data.astype(object), y_train_1_hot,\n",
    "             validation_data=(val_data, y_val_1_hot), epochs=20, batch_size = 128,\n",
    "             callbacks=[early_stopping])"
   ],
   "metadata": {
    "collapsed": false
   }
  },
  {
   "cell_type": "code",
   "execution_count": null,
   "outputs": [
    {
     "output_type": "stream",
     "name": "stdout",
     "text": [
      "Results summary\n",
      "Results in KT_dir/KT_tuning\n",
      "Showing 10 best trials\n",
      "Objective(name=\"val_categorical_accuracy\", direction=\"max\")\n",
      "\n",
      "Trial 01 summary\n",
      "Hyperparameters:\n",
      "dropout_rate: 0.1\n",
      "num_rnn_layers: 1\n",
      "gru_units: 512\n",
      "attention_layers: 3\n",
      "attention_units: 192\n",
      "attention_dropout: 0.4\n",
      "dense_units: 256\n",
      "dropout_rate_dense: 0.2\n",
      "learning_rate: 0.0001\n",
      "Score: 0.7440000176429749\n",
      "\n",
      "Trial 09 summary\n",
      "Hyperparameters:\n",
      "dropout_rate: 0.3\n",
      "num_rnn_layers: 1\n",
      "gru_units: 128\n",
      "attention_layers: 1\n",
      "attention_units: 320\n",
      "attention_dropout: 0.2\n",
      "dense_units: 512\n",
      "dropout_rate_dense: 0.4\n",
      "learning_rate: 0.0001\n",
      "Score: 0.7429999709129333\n",
      "\n",
      "Trial 06 summary\n",
      "Hyperparameters:\n",
      "dropout_rate: 0.4\n",
      "num_rnn_layers: 1\n",
      "gru_units: 384\n",
      "attention_layers: 2\n",
      "attention_units: 448\n",
      "attention_dropout: 0.1\n",
      "dense_units: 320\n",
      "dropout_rate_dense: 0.5\n",
      "learning_rate: 0.001\n",
      "Score: 0.7419999837875366\n",
      "\n",
      "Trial 08 summary\n",
      "Hyperparameters:\n",
      "dropout_rate: 0.4\n",
      "num_rnn_layers: 1\n",
      "gru_units: 320\n",
      "attention_layers: 1\n",
      "attention_units: 128\n",
      "attention_dropout: 0.5\n",
      "dense_units: 512\n",
      "dropout_rate_dense: 0.4\n",
      "learning_rate: 0.001\n",
      "Score: 0.7419999837875366\n",
      "\n",
      "Trial 02 summary\n",
      "Hyperparameters:\n",
      "dropout_rate: 0.2\n",
      "num_rnn_layers: 2\n",
      "gru_units: 512\n",
      "attention_layers: 1\n",
      "attention_units: 512\n",
      "attention_dropout: 0.1\n",
      "dense_units: 384\n",
      "dropout_rate_dense: 0.2\n",
      "learning_rate: 0.0001\n",
      "Score: 0.7400000095367432\n",
      "\n",
      "Trial 07 summary\n",
      "Hyperparameters:\n",
      "dropout_rate: 0.4\n",
      "num_rnn_layers: 1\n",
      "gru_units: 192\n",
      "attention_layers: 2\n",
      "attention_units: 448\n",
      "attention_dropout: 0.5\n",
      "dense_units: 320\n",
      "dropout_rate_dense: 0.3\n",
      "learning_rate: 0.0001\n",
      "Score: 0.7390000224113464\n",
      "\n",
      "Trial 04 summary\n",
      "Hyperparameters:\n",
      "dropout_rate: 0.4\n",
      "num_rnn_layers: 1\n",
      "gru_units: 320\n",
      "attention_layers: 2\n",
      "attention_units: 448\n",
      "attention_dropout: 0.3\n",
      "dense_units: 512\n",
      "dropout_rate_dense: 0.3\n",
      "learning_rate: 0.001\n",
      "Score: 0.7379999756813049\n",
      "\n",
      "Trial 00 summary\n",
      "Hyperparameters:\n",
      "dropout_rate: 0.1\n",
      "num_rnn_layers: 3\n",
      "gru_units: 448\n",
      "attention_layers: 1\n",
      "attention_units: 448\n",
      "attention_dropout: 0.5\n",
      "dense_units: 448\n",
      "dropout_rate_dense: 0.4\n",
      "learning_rate: 0.001\n",
      "Score: 0.7369999885559082\n",
      "\n",
      "Trial 05 summary\n",
      "Hyperparameters:\n",
      "dropout_rate: 0.4\n",
      "num_rnn_layers: 1\n",
      "gru_units: 256\n",
      "attention_layers: 2\n",
      "attention_units: 256\n",
      "attention_dropout: 0.4\n",
      "dense_units: 448\n",
      "dropout_rate_dense: 0.2\n",
      "learning_rate: 0.0001\n",
      "Score: 0.7360000014305115\n",
      "\n",
      "Trial 03 summary\n",
      "Hyperparameters:\n",
      "dropout_rate: 0.2\n",
      "num_rnn_layers: 3\n",
      "gru_units: 192\n",
      "attention_layers: 2\n",
      "attention_units: 512\n",
      "attention_dropout: 0.2\n",
      "dense_units: 320\n",
      "dropout_rate_dense: 0.1\n",
      "learning_rate: 0.0001\n",
      "Score: 0.6909999847412109\n"
     ]
    }
   ],
   "source": [
    "# Print a summary of the results of the hyperparameter search\n",
    "tuner.results_summary()"
   ],
   "metadata": {
    "collapsed": false
   }
  },
  {
   "cell_type": "code",
   "execution_count": null,
   "outputs": [
    {
     "output_type": "execute_result",
     "data": {
      "text/plain": [
       "{'dropout_rate': 0.1,\n",
       " 'num_rnn_layers': 1,\n",
       " 'gru_units': 512,\n",
       " 'attention_layers': 3,\n",
       " 'attention_units': 192,\n",
       " 'attention_dropout': 0.4,\n",
       " 'dense_units': 256,\n",
       " 'dropout_rate_dense': 0.2,\n",
       " 'learning_rate': 0.0001}"
      ]
     },
     "metadata": {},
     "execution_count": 54
    }
   ],
   "source": [
    "# Get best hyper-parameters setup\n",
    "tuner.get_best_hyperparameters()[0].values"
   ],
   "metadata": {
    "collapsed": false
   }
  },
  {
   "cell_type": "code",
   "execution_count": null,
   "outputs": [
    {
     "output_type": "stream",
     "name": "stdout",
     "text": [
      "Model: \"sequential\"\n",
      "_________________________________________________________________\n",
      " Layer (type)                Output Shape              Param #   \n",
      "=================================================================\n",
      " text_vectorization (TextVec  (None, 256)              0         \n",
      " torization)                                                     \n",
      "                                                                 \n",
      " embedding (Embedding)       (None, 256, 100)          51200     \n",
      "                                                                 \n",
      " dropout (Dropout)           (None, 256, 100)          0         \n",
      "                                                                 \n",
      " bidirectional (Bidirectiona  (None, 256, 1024)        1886208   \n",
      " l)                                                              \n",
      "                                                                 \n",
      " self_attention (SelfAttenti  (None, 1024)             271105    \n",
      " on)                                                             \n",
      "                                                                 \n",
      " dense_4 (Dense)             (None, 256)               262400    \n",
      "                                                                 \n",
      " dropout_4 (Dropout)         (None, 256)               0         \n",
      "                                                                 \n",
      " dense_5 (Dense)             (None, 2)                 514       \n",
      "                                                                 \n",
      "=================================================================\n",
      "Total params: 2,471,427\n",
      "Trainable params: 2,420,227\n",
      "Non-trainable params: 51,200\n",
      "_________________________________________________________________\n"
     ]
    }
   ],
   "source": [
    "# Get the best model found during the search\n",
    "best_model_2 = tuner.get_best_models(num_models=1)[0]\n",
    "\n",
    "# Print a summary of the best model\n",
    "best_model_2.summary()"
   ],
   "metadata": {
    "collapsed": false
   }
  },
  {
   "cell_type": "code",
   "execution_count": null,
   "outputs": [],
   "source": [
    "# Use the best model to predict the class labels for the training data\n",
    "# The model's predict method returns a probability for each class\n",
    "# We use argmax to get the index of the highest probability, which gives us the predicted class\n",
    "predictions_train_rnn = np.argmax(best_model_2.predict(df_tweet_sentiment), -1)\n",
    "\n",
    "# Make predictions on the validation data\n",
    "predictions_val_rnn = np.argmax(best_model_2.predict(val_data), -1)\n",
    "\n",
    "# Make predictions on the test data\n",
    "predictions_test_rnn= np.argmax(best_model_2.predict(test_data), -1)"
   ],
   "metadata": {
    "collapsed": false
   }
  },
  {
   "cell_type": "code",
   "execution_count": null,
   "outputs": [
    {
     "output_type": "stream",
     "name": "stdout",
     "text": [
      "219/219 [==============================] - 10s 34ms/step\n",
      "32/32 [==============================] - 1s 33ms/step\n",
      "63/63 [==============================] - 2s 39ms/step\n",
      "Classification Report for TRAIN data set:\n",
      "              precision    recall  f1-score   support\n",
      "\n",
      "           0       0.77      0.79      0.78      3495\n",
      "           1       0.79      0.76      0.77      3505\n",
      "\n",
      "    accuracy                           0.77      7000\n",
      "   macro avg       0.78      0.77      0.77      7000\n",
      "weighted avg       0.78      0.77      0.77      7000\n",
      "\n",
      "Classification Report for Validation data set:\n",
      "              precision    recall  f1-score   support\n",
      "\n",
      "           0       0.76      0.74      0.75       522\n",
      "           1       0.73      0.74      0.74       478\n",
      "\n",
      "    accuracy                           0.74      1000\n",
      "   macro avg       0.74      0.74      0.74      1000\n",
      "weighted avg       0.74      0.74      0.74      1000\n",
      "\n",
      "Classification Report for TEST data set:\n",
      "              precision    recall  f1-score   support\n",
      "\n",
      "           0       0.73      0.75      0.74       983\n",
      "           1       0.75      0.73      0.74      1017\n",
      "\n",
      "    accuracy                           0.74      2000\n",
      "   macro avg       0.74      0.74      0.74      2000\n",
      "weighted avg       0.74      0.74      0.74      2000\n",
      "\n"
     ]
    }
   ],
   "source": [
    "# Print a classification report for the training data\n",
    "# The classification report shows key classification metrics including precision, recall and f1-score\n",
    "print(\"Classification Report for TRAIN data set:\")\n",
    "print(classification_report(y_train_new, predictions_train_rnn))\n",
    "\n",
    "# Print a classification report for the validation data\n",
    "print(\"Classification Report for Validation data set:\")\n",
    "print(classification_report(y_val, predictions_val_rnn))\n",
    "\n",
    "# Print a classification report for the test data\n",
    "print(\"Classification Report for TEST data set:\")\n",
    "print(classification_report(y_test, predictions_test_rnn))"
   ],
   "metadata": {
    "collapsed": false
   }
  },
  {
   "cell_type": "code",
   "execution_count": null,
   "outputs": [
    {
     "output_type": "stream",
     "name": "stdout",
     "text": [
      "Epoch 1/20\n",
      "32/32 [==============================] - 1s 25ms/step\n",
      " — val_f1: 0.731053 — val_precision: 0.731142 — val_recall: 0.731000\n",
      "28/28 [==============================] - 43s 1s/step - loss: 0.4818 - categorical_accuracy: 0.7650 - val_loss: 0.5299 - val_categorical_accuracy: 0.7320 - val_f1: 0.7311 - val_recall: 0.7310 - val_precision: 0.7311\n",
      "Epoch 2/20\n",
      "32/32 [==============================] - 1s 26ms/step\n",
      " — val_f1: 0.734874 — val_precision: 0.738891 — val_recall: 0.735000\n",
      "28/28 [==============================] - 27s 963ms/step - loss: 0.4791 - categorical_accuracy: 0.7694 - val_loss: 0.5354 - val_categorical_accuracy: 0.7350 - val_f1: 0.7349 - val_recall: 0.7350 - val_precision: 0.7389\n",
      "Epoch 3/20\n",
      "32/32 [==============================] - 1s 24ms/step\n",
      " — val_f1: 0.732091 — val_precision: 0.732329 — val_recall: 0.732000\n",
      "28/28 [==============================] - 34s 1s/step - loss: 0.4798 - categorical_accuracy: 0.7667 - val_loss: 0.5284 - val_categorical_accuracy: 0.7320 - val_f1: 0.7321 - val_recall: 0.7320 - val_precision: 0.7323\n",
      "Epoch 4/20\n",
      "32/32 [==============================] - 1s 25ms/step\n",
      " — val_f1: 0.735107 — val_precision: 0.735462 — val_recall: 0.735000\n",
      "28/28 [==============================] - 29s 1s/step - loss: 0.4755 - categorical_accuracy: 0.7670 - val_loss: 0.5281 - val_categorical_accuracy: 0.7350 - val_f1: 0.7351 - val_recall: 0.7350 - val_precision: 0.7355\n",
      "Epoch 5/20\n",
      "32/32 [==============================] - 1s 24ms/step\n",
      " — val_f1: 0.732905 — val_precision: 0.736635 — val_recall: 0.733000\n",
      "28/28 [==============================] - 31s 1s/step - loss: 0.4726 - categorical_accuracy: 0.7679 - val_loss: 0.5350 - val_categorical_accuracy: 0.7330 - val_f1: 0.7329 - val_recall: 0.7330 - val_precision: 0.7366\n",
      "Epoch 6/20\n",
      "32/32 [==============================] - 1s 25ms/step\n",
      " — val_f1: 0.739124 — val_precision: 0.740172 — val_recall: 0.739000\n",
      "28/28 [==============================] - 30s 1s/step - loss: 0.4715 - categorical_accuracy: 0.7694 - val_loss: 0.5286 - val_categorical_accuracy: 0.7390 - val_f1: 0.7391 - val_recall: 0.7390 - val_precision: 0.7402\n",
      "Epoch 7/20\n",
      "32/32 [==============================] - 1s 25ms/step\n",
      " — val_f1: 0.744098 — val_precision: 0.744411 — val_recall: 0.744000\n",
      "28/28 [==============================] - 33s 1s/step - loss: 0.4739 - categorical_accuracy: 0.7634 - val_loss: 0.5278 - val_categorical_accuracy: 0.7440 - val_f1: 0.7441 - val_recall: 0.7440 - val_precision: 0.7444\n",
      "Epoch 8/20\n",
      "32/32 [==============================] - 1s 31ms/step\n",
      " — val_f1: 0.736127 — val_precision: 0.737101 — val_recall: 0.736000\n",
      "28/28 [==============================] - 27s 947ms/step - loss: 0.4712 - categorical_accuracy: 0.7676 - val_loss: 0.5295 - val_categorical_accuracy: 0.7360 - val_f1: 0.7361 - val_recall: 0.7360 - val_precision: 0.7371\n",
      "Epoch 9/20\n",
      "32/32 [==============================] - 1s 26ms/step\n",
      " — val_f1: 0.737106 — val_precision: 0.738629 — val_recall: 0.737000\n",
      "28/28 [==============================] - 32s 1s/step - loss: 0.4633 - categorical_accuracy: 0.7733 - val_loss: 0.5363 - val_categorical_accuracy: 0.7320 - val_f1: 0.7371 - val_recall: 0.7370 - val_precision: 0.7386\n",
      "Epoch 10/20\n",
      "32/32 [==============================] - 1s 29ms/step\n",
      " — val_f1: 0.736124 — val_precision: 0.737242 — val_recall: 0.736000\n",
      "28/28 [==============================] - 29s 999ms/step - loss: 0.4615 - categorical_accuracy: 0.7727 - val_loss: 0.5336 - val_categorical_accuracy: 0.7360 - val_f1: 0.7361 - val_recall: 0.7360 - val_precision: 0.7372\n",
      "Epoch 11/20\n",
      "32/32 [==============================] - 1s 25ms/step\n",
      " — val_f1: 0.732023 — val_precision: 0.734632 — val_recall: 0.732000\n",
      "28/28 [==============================] - 32s 1s/step - loss: 0.4602 - categorical_accuracy: 0.7769 - val_loss: 0.5374 - val_categorical_accuracy: 0.7320 - val_f1: 0.7320 - val_recall: 0.7320 - val_precision: 0.7346\n",
      "Epoch 12/20\n",
      "32/32 [==============================] - 1s 32ms/step\n",
      " — val_f1: 0.734077 — val_precision: 0.736057 — val_recall: 0.734000\n",
      "28/28 [==============================] - 29s 1s/step - loss: 0.4598 - categorical_accuracy: 0.7774 - val_loss: 0.5374 - val_categorical_accuracy: 0.7340 - val_f1: 0.7341 - val_recall: 0.7340 - val_precision: 0.7361\n"
     ]
    }
   ],
   "source": [
    "# Train the best model on the training data and evaluate it on the validation data\n",
    "# The training will be done for a maximum of 20 epochs with a batch size of 256\n",
    "# The EarlyStopping callback is used during training to stop training if the validation loss doesn't improve for a certain number of epochs\n",
    "history_val_2 = best_model_2.fit(df_tweet_sentiment, y_train_1_hot,\n",
    "                                 validation_data=(val_data, y_val_1_hot),\n",
    "                                 batch_size=256,\n",
    "                                 epochs=20,\n",
    "                                 shuffle=True,\n",
    "                                 callbacks=[Metrics(valid_data=(val_data, y_val_1_hot)),\n",
    "                                            early_stopping])"
   ],
   "metadata": {
    "collapsed": false
   }
  },
  {
   "cell_type": "code",
   "execution_count": null,
   "outputs": [
    {
     "output_type": "display_data",
     "data": {
      "text/plain": [
       "<Figure size 640x480 with 1 Axes>"
      ],
      "image/png": "[encoded data removed]"
     },
     "metadata": {}
    },
    {
     "output_type": "display_data",
     "data": {
      "text/plain": [
       "<Figure size 640x480 with 1 Axes>"
      ],
      "image/png": "[encoded data removed]"
     },
     "metadata": {}
    }
   ],
   "source": [
    "# summarize history for accuracy\n",
    "plt.plot(history_val_2.history['categorical_accuracy'])\n",
    "plt.plot(history_val_2.history['val_categorical_accuracy'])\n",
    "plt.title('model accuracy')\n",
    "plt.ylabel('accuracy')\n",
    "plt.xlabel('epoch')\n",
    "plt.legend(['train', 'dev'], loc='upper left')\n",
    "plt.show()\n",
    "\n",
    "# summarize history for loss\n",
    "plt.plot(history_val_2.history['loss'])\n",
    "plt.plot(history_val_2.history['val_loss'])\n",
    "plt.title('model loss')\n",
    "plt.ylabel('loss')\n",
    "plt.xlabel('epoch')\n",
    "plt.legend(['train', 'dev'], loc='upper right')\n",
    "plt.show()"
   ],
   "metadata": {
    "collapsed": false
   }
  },
  {
   "cell_type": "markdown",
   "source": [
    "# Precision-Recall curves"
   ],
   "metadata": {
    "collapsed": false
   }
  },
  {
   "cell_type": "code",
   "execution_count": null,
   "outputs": [
    {
     "output_type": "display_data",
     "data": {
      "text/plain": [
       "<Figure size 640x480 with 1 Axes>"
      ],
      "image/png": "[encoded data removed]"
     },
     "metadata": {}
    }
   ],
   "source": [
    "#disable warnings for large float numbers of estimated probabilities\n",
    "np.seterr(all='ignore')\n",
    "name = 'TunedLogistic Regression Tf-Idf'\n",
    "model = log_cv\n",
    "model.fit(x_train_tfidf, y_train)\n",
    "pred = model.predict_proba(x_test_tfidf)\n",
    "precision, recall, thresholds = precision_recall_curve(y_test, pred[:,1])\n",
    "area = auc(recall, precision)\n",
    "\n",
    "plt.plot(recall, precision, label='Precision-Recall curve')\n",
    "plt.xlabel('Recall')\n",
    "plt.ylabel('Precision')\n",
    "plt.ylim([0.0, 1.05])\n",
    "plt.xlim([0.0, 1.0])\n",
    "plt.title('Precision-Recall %s: AUC=%0.2f' % (name,area))\n",
    "plt.legend(loc=\"lower left\")\n",
    "plt.show()"
   ],
   "metadata": {
    "collapsed": false
   }
  },
  {
   "cell_type": "code",
   "execution_count": null,
   "outputs": [
    {
     "output_type": "display_data",
     "data": {
      "text/plain": [
       "<Figure size 640x480 with 1 Axes>"
      ],
      "image/png": "[encoded data removed]"
     },
     "metadata": {}
    }
   ],
   "source": [
    "#disable warnings for large float numbers of estimated probabilities\n",
    "np.seterr(all='ignore')\n",
    "name = 'MLP With Centroid'\n",
    "model = model2\n",
    "pred = predictions\n",
    "precision, recall, thresholds = precision_recall_curve(y_test, pred)\n",
    "area = auc(recall, precision)\n",
    "\n",
    "plt.plot(recall, precision, label='Precision-Recall curve')\n",
    "plt.xlabel('Recall')\n",
    "plt.ylabel('Precision')\n",
    "plt.ylim([0.0, 1.05])\n",
    "plt.xlim([0.0, 1.0])\n",
    "plt.title('Precision-Recall %s: AUC=%0.2f' % (name,area))\n",
    "plt.legend(loc=\"lower left\")\n",
    "plt.show()"
   ],
   "metadata": {
    "collapsed": false
   }
  },
  {
   "cell_type": "code",
   "execution_count": null,
   "outputs": [
    {
     "output_type": "display_data",
     "data": {
      "text/plain": [
       "<Figure size 640x480 with 1 Axes>"
      ],
      "image/png": "[encoded data removed]"
     },
     "metadata": {}
    }
   ],
   "source": [
    "#disable warnings for large float numbers of estimated probabilities\n",
    "np.seterr(all='ignore')\n",
    "name = 'RNN-GRU HyperTuned'\n",
    "model = best_model_2\n",
    "pred = predictions_test_rnn\n",
    "precision, recall, thresholds = precision_recall_curve(y_test, pred)\n",
    "area = auc(recall, precision)\n",
    "\n",
    "plt.plot(recall, precision, label='Precision-Recall curve')\n",
    "plt.xlabel('Recall')\n",
    "plt.ylabel('Precision')\n",
    "plt.ylim([0.0, 1.05])\n",
    "plt.xlim([0.0, 1.0])\n",
    "plt.title('Precision-Recall %s: AUC=%0.2f' % (name,area))\n",
    "plt.legend(loc=\"lower left\")\n",
    "plt.show()"
   ],
   "metadata": {
    "collapsed": false
   }
  }
 ],
 "metadata": {
  "colab": {
   "provenance": []
  },
  "kernelspec": {
   "display_name": "Python 3",
   "language": "python",
   "name": "python3"
  },
  "language_info": {
   "name": "python"
  }
 },
 "nbformat": 4,
 "nbformat_minor": 0
}
